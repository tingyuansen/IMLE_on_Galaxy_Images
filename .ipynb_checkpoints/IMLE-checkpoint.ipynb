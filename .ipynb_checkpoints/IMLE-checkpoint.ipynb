{
 "cells": [
  {
   "cell_type": "code",
   "execution_count": 1,
   "metadata": {},
   "outputs": [],
   "source": [
    "%matplotlib inline\n",
    "\n",
    "# import packages\n",
    "import numpy as np\n",
    "import time\n",
    "import pandas as pd\n",
    "\n",
    "import matplotlib\n",
    "import matplotlib.pyplot as plt\n",
    "import matplotlib.colors as colors\n",
    "import matplotlib.cm as cm\n",
    "from matplotlib import gridspec\n"
   ]
  },
  {
   "cell_type": "code",
   "execution_count": 2,
   "metadata": {},
   "outputs": [],
   "source": [
    "# define plot properties\n",
    "from cycler import cycler\n",
    "import matplotlib.cm as cm\n",
    "\n",
    "from matplotlib import rcParams\n",
    "from matplotlib import rc\n",
    "from mpl_toolkits.axes_grid1 import make_axes_locatable\n",
    "\n",
    "def rgb(r,g,b):\n",
    "    return (float(r)/256.,float(g)/256.,float(b)/256.)\n",
    "\n",
    "cb2 = [rgb(31,120,180), rgb(255,127,0), rgb(51,160,44), rgb(227,26,28), \\\n",
    "       rgb(166,206,227), rgb(253,191,111), rgb(178,223,138), rgb(251,154,153)]\n",
    "\n",
    "rcParams['figure.figsize'] = (9,7.5)\n",
    "#rcParams['figure.dpi'] = 300\n",
    "\n",
    "rcParams['lines.linewidth'] = 1\n",
    "\n",
    "rcParams['axes.prop_cycle'] = cycler('color', cb2)\n",
    "rcParams['axes.facecolor'] = 'white'\n",
    "rcParams['axes.grid'] = False\n",
    "\n",
    "rcParams['patch.facecolor'] = cb2[0]\n",
    "rcParams['patch.edgecolor'] = 'white'\n",
    "\n",
    "#rcParams['font.family'] = 'Bitstream Vera Sans' \n",
    "rcParams['font.size'] = 23\n",
    "rcParams['font.weight'] = 300\n"
   ]
  },
  {
   "cell_type": "markdown",
   "metadata": {},
   "source": [
    "> Load data."
   ]
  },
  {
   "cell_type": "code",
   "execution_count": null,
   "metadata": {},
   "outputs": [],
   "source": [
    "# load all the array\n",
    "arr = np.load(\"../DES_DR1.npy\")\n",
    "\n",
    "# permute the data\n",
    "rng = np.random.RandomState(seed=42)\n",
    "pidx = rng.permutation(len(arr))\n",
    "arr = arr[pidx]\n",
    "    \n",
    "# crop the image\n",
    "arr = arr[:,32:96,32:96,:]\n",
    "\n",
    "# scale data\n",
    "arr = np.clip(np.arcsinh(0.01*arr)+0.4,0,5)/5\n",
    "\n",
    "# further scale to make the color pop\n",
    "arr[:,:,:,0] = arr[:,:,:,0] * 1.5\n",
    "arr[:,:,:,1] = arr[:,:,:,1] * 1.2\n",
    "arr[:,:,:,2] = arr[:,:,:,2] * 1.1\n",
    "arr = np.clip(arr,0,1)\n"
   ]
  },
  {
   "cell_type": "code",
   "execution_count": null,
   "metadata": {},
   "outputs": [],
   "source": [
    "# load a channel of an image\n",
    "channel_choice = 2\n",
    "\n",
    "# choose an image\n",
    "image_choice = 0\n"
   ]
  },
  {
   "cell_type": "markdown",
   "metadata": {},
   "source": [
    "> Histogram of individual channels."
   ]
  },
  {
   "cell_type": "code",
   "execution_count": null,
   "metadata": {},
   "outputs": [],
   "source": [
    "plt.hist(arr[:,:,:,0].ravel(), alpha=0.5, bins=100);\n",
    "plt.hist(arr[:,:,:,1].ravel(), alpha=0.5, bins=100);\n",
    "plt.hist(arr[:,:,:,2].ravel(), alpha=0.5, bins=100);"
   ]
  },
  {
   "cell_type": "markdown",
   "metadata": {},
   "source": [
    "> Show images."
   ]
  },
  {
   "cell_type": "code",
   "execution_count": null,
   "metadata": {},
   "outputs": [],
   "source": [
    "plt.imshow(arr[image_choice,:,:,:])"
   ]
  },
  {
   "cell_type": "code",
   "execution_count": null,
   "metadata": {},
   "outputs": [],
   "source": [
    "# restore results\n",
    "import imageio\n",
    "\n",
    "# choose a subset of images\n",
    "X = arr[:64]\n",
    "\n",
    "#-----------------------------------------------------------------------------\n",
    "# plot the tiled results\n",
    "n_samples = X.shape[0]\n",
    "rows = int(np.sqrt(n_samples))\n",
    "while n_samples % rows != 0:\n",
    "    rows -= 1\n",
    "\n",
    "nh, nw = rows, int(n_samples/rows)\n",
    "\n",
    "h, w = X[0].shape[:2]\n",
    "img = np.zeros((h*nh, w*nw, 3))\n",
    "\n",
    "#-----------------------------------------------------------------------------\n",
    "# loop over all images\n",
    "for n, x in enumerate(X):\n",
    "    j = int(n/nw)\n",
    "    i = n%nw\n",
    "    x_temp = np.copy(x)\n",
    "    img[j*h:j*h+h, i*w:i*w+w, :] = x_temp\n",
    "\n",
    "# save images\n",
    "imageio.imwrite(\"Results.png\", img)"
   ]
  },
  {
   "cell_type": "code",
   "execution_count": null,
   "metadata": {},
   "outputs": [],
   "source": [
    "# save training set\n",
    "arr = np.swapaxes(arr,3,1)\n",
    "np.save(\"../training_set_des.npy\", arr)\n"
   ]
  },
  {
   "cell_type": "markdown",
   "metadata": {},
   "source": [
    "> Restore 2D networks and results."
   ]
  },
  {
   "cell_type": "code",
   "execution_count": null,
   "metadata": {},
   "outputs": [],
   "source": [
    "# restore results\n",
    "temp = np.load(\"../results_2D.npz\")\n",
    "data_np = temp[\"data_np\"]\n",
    "plt.hist(np.log(data_np).flatten())"
   ]
  },
  {
   "cell_type": "code",
   "execution_count": null,
   "metadata": {},
   "outputs": [],
   "source": [
    "# restore results\n",
    "import imageio\n",
    "\n",
    "# restore results\n",
    "#temp = np.load(\"../results_2D_zdim=32.npz\")\n",
    "#samples_np = temp[\"samples_np\"][::10,:][:100,:]\n",
    "#data_np = temp[\"data_np\"][::10,:][:100,:]\n",
    "\n",
    "temp = np.load(\"../results_2D_random_zdim=4.npz\")\n",
    "samples_np = temp[\"samples_np\"][::10,:][:100,:]\n",
    "\n",
    "# swap channel axis\n",
    "X = np.swapaxes(samples_np,3,1)\n",
    "X = np.clip(X,0.1,1.)\n",
    "\n",
    "#-----------------------------------------------------------------------------\n",
    "# plot the tiled results\n",
    "n_samples = X.shape[0]\n",
    "rows = int(np.sqrt(n_samples))\n",
    "while n_samples % rows != 0:\n",
    "    rows -= 1\n",
    "\n",
    "nh, nw = rows, int(n_samples/rows)\n",
    "\n",
    "h, w = X[0].shape[:2]\n",
    "img = np.zeros((h*nh, w*nw, 3))\n",
    "\n",
    "#-----------------------------------------------------------------------------\n",
    "# loop over all images\n",
    "for n, x in enumerate(X):\n",
    "    j = int(n/nw)\n",
    "    i = n%nw\n",
    "    x_temp = np.copy(x)\n",
    "    img[j*h:j*h+h, i*w:i*w+w, :] = x_temp\n",
    "\n",
    "# save images\n",
    "imageio.imwrite(\"../Results_2D_mock.png\", img)\n",
    "\n",
    "\n",
    "#==============================================================================\n",
    "# restore results\n",
    "import imageio\n",
    "\n",
    "# restore results\n",
    "temp = np.load(\"../results_2D_zdim=32.npz\")\n",
    "samples_np = temp[\"samples_np\"][::10,:][:100,:]\n",
    "data_np = temp[\"data_np\"][::10,:][:100,:]\n",
    "\n",
    "# swap channel axis\n",
    "X = np.swapaxes(data_np,3,1)\n",
    "X = np.clip(X,0.1,1.)\n",
    "\n",
    "#-----------------------------------------------------------------------------\n",
    "# plot the tiled results\n",
    "n_samples = X.shape[0]\n",
    "rows = int(np.sqrt(n_samples))\n",
    "\n",
    "while n_samples % rows != 0:\n",
    "    rows -= 1\n",
    "\n",
    "nh, nw = rows, int(n_samples/rows)\n",
    "\n",
    "h, w = X[0].shape[:2]\n",
    "img = np.zeros((h*nh, w*nw, 3))\n",
    "\n",
    "#-----------------------------------------------------------------------------\n",
    "# loop over all images\n",
    "for n, x in enumerate(X):\n",
    "    j = int(n/nw)\n",
    "    i = n%nw\n",
    "    x_temp = np.copy(x)\n",
    "    img[j*h:j*h+h, i*w:i*w+w, :] = x_temp\n",
    "\n",
    "# save images\n",
    "imageio.imwrite(\"../Results_2D_real.png\", img)\n"
   ]
  },
  {
   "cell_type": "markdown",
   "metadata": {},
   "source": [
    "> Restore 3D networks and results."
   ]
  },
  {
   "cell_type": "code",
   "execution_count": null,
   "metadata": {},
   "outputs": [],
   "source": [
    "# restore results\n",
    "import imageio\n",
    "\n",
    "# restore results\n",
    "temp = np.load(\"../results_3D.npz\")\n",
    "samples_np = temp[\"samples_np\"][0,0,:,:,:]\n",
    "data_np = temp[\"data_np\"][0,0,:,:,:]\n",
    "\n",
    "# set range\n",
    "X = np.clip(samples_np,5.,10.)\n",
    "\n",
    "#-----------------------------------------------------------------------------\n",
    "# plot the tiled results\n",
    "n_samples = X.shape[0]\n",
    "rows = int(np.sqrt(n_samples))\n",
    "while n_samples % rows != 0:\n",
    "    rows -= 1\n",
    "\n",
    "nh, nw = rows, int(n_samples/rows)\n",
    "\n",
    "h, w = X[0].shape[:2]\n",
    "img = np.zeros((h*nh, w*nw))\n",
    "\n",
    "#-----------------------------------------------------------------------------\n",
    "# loop over all images\n",
    "for n, x in enumerate(X):\n",
    "    j = int(n/nw)\n",
    "    i = n%nw\n",
    "    x_temp = np.copy(x)\n",
    "    img[j*h:j*h+h, i*w:i*w+w] = x_temp\n",
    "\n",
    "# save images\n",
    "imageio.imwrite(\"../Results_3D_mock.png\", img)\n",
    "\n",
    "\n",
    "#==============================================================================\n",
    "# restore results\n",
    "import imageio\n",
    "\n",
    "# restore results\n",
    "temp = np.load(\"../results_3D.npz\")\n",
    "samples_np = temp[\"samples_np\"][0,0,:,:,:]\n",
    "data_np = temp[\"data_np\"][0,0,:,:,:]\n",
    "\n",
    "# set range\n",
    "X = np.clip(data_np,5.,10.)\n",
    "\n",
    "#-----------------------------------------------------------------------------\n",
    "# plot the tiled results\n",
    "n_samples = X.shape[0]\n",
    "rows = int(np.sqrt(n_samples))\n",
    "\n",
    "while n_samples % rows != 0:\n",
    "    rows -= 1\n",
    "\n",
    "nh, nw = rows, int(n_samples/rows)\n",
    "\n",
    "h, w = X[0].shape[:2]\n",
    "img = np.zeros((h*nh, w*nw))\n",
    "\n",
    "#-----------------------------------------------------------------------------\n",
    "# loop over all images\n",
    "for n, x in enumerate(X):\n",
    "    j = int(n/nw)\n",
    "    i = n%nw\n",
    "    x_temp = np.copy(x)\n",
    "    img[j*h:j*h+h, i*w:i*w+w] = x_temp\n",
    "\n",
    "# save images\n",
    "imageio.imwrite(\"../Results_3D_real.png\", img)\n"
   ]
  },
  {
   "cell_type": "code",
   "execution_count": null,
   "metadata": {},
   "outputs": [],
   "source": [
    "plt.imshow(samples_np[10,0,slice,:,:], vmin=5, vmax=10, cmap=\"Greys\")\n"
   ]
  },
  {
   "cell_type": "code",
   "execution_count": null,
   "metadata": {},
   "outputs": [],
   "source": [
    "print(samples_np.shape)\n",
    "print(data_np.shape)\n",
    "plt.hist(samples_np.flatten(), bins=100);\n",
    "plt.hist(data_np.flatten(), bins=100, alpha=0.5);"
   ]
  },
  {
   "cell_type": "markdown",
   "metadata": {},
   "source": [
    "## Curate Zeldovich Approximation data."
   ]
  },
  {
   "cell_type": "code",
   "execution_count": null,
   "metadata": {},
   "outputs": [],
   "source": [
    "# restore data\n",
    "temp = np.load(\"../Zeldovich_Approximation.npz\")\n",
    "sim_z0 = temp[\"sim_z0\"]\n",
    "sim_z0 = sim_z0.reshape(sim_z0.shape[0]*sim_z0.shape[1],1,sim_z0.shape[2],sim_z0.shape[3])\n",
    "sim_z0 = sim_z0[:,:,::2,::2][:,:,2:-2,2:-2]\n",
    "print(sim_z0.shape)\n",
    "sim_z50 = temp[\"sim_z50\"]\n"
   ]
  },
  {
   "cell_type": "markdown",
   "metadata": {},
   "source": [
    "# Investigate NN structure."
   ]
  },
  {
   "cell_type": "code",
   "execution_count": 4,
   "metadata": {},
   "outputs": [
    {
     "ename": "RuntimeError",
     "evalue": "Given groups=1, weight of size 512 512 5 5, expected input[2, 3, 32, 32] to have 512 channels, but got 3 channels instead",
     "output_type": "error",
     "traceback": [
      "\u001b[0;31m---------------------------------------------------------------------------\u001b[0m",
      "\u001b[0;31mRuntimeError\u001b[0m                              Traceback (most recent call last)",
      "\u001b[0;32m<ipython-input-4-b6cbde752ea9>\u001b[0m in \u001b[0;36m<module>\u001b[0;34m\u001b[0m\n\u001b[1;32m     45\u001b[0m \u001b[0;31m# test output\u001b[0m\u001b[0;34m\u001b[0m\u001b[0;34m\u001b[0m\u001b[0;34m\u001b[0m\u001b[0m\n\u001b[1;32m     46\u001b[0m \u001b[0mz\u001b[0m \u001b[0;34m=\u001b[0m \u001b[0mtorch\u001b[0m\u001b[0;34m.\u001b[0m\u001b[0mrandn\u001b[0m\u001b[0;34m(\u001b[0m\u001b[0mbatch_size\u001b[0m\u001b[0;34m,\u001b[0m \u001b[0mz_dim\u001b[0m\u001b[0;34m,\u001b[0m \u001b[0;36m1\u001b[0m\u001b[0;34m,\u001b[0m \u001b[0;36m1\u001b[0m\u001b[0;34m)\u001b[0m\u001b[0;34m\u001b[0m\u001b[0;34m\u001b[0m\u001b[0m\n\u001b[0;32m---> 47\u001b[0;31m \u001b[0mprint\u001b[0m\u001b[0;34m(\u001b[0m\u001b[0mmodel\u001b[0m\u001b[0;34m(\u001b[0m\u001b[0mz\u001b[0m\u001b[0;34m)\u001b[0m\u001b[0;34m.\u001b[0m\u001b[0mshape\u001b[0m\u001b[0;34m)\u001b[0m\u001b[0;34m\u001b[0m\u001b[0;34m\u001b[0m\u001b[0m\n\u001b[0m",
      "\u001b[0;32m~/anaconda3/lib/python3.7/site-packages/torch/nn/modules/module.py\u001b[0m in \u001b[0;36m__call__\u001b[0;34m(self, *input, **kwargs)\u001b[0m\n\u001b[1;32m    539\u001b[0m             \u001b[0mresult\u001b[0m \u001b[0;34m=\u001b[0m \u001b[0mself\u001b[0m\u001b[0;34m.\u001b[0m\u001b[0m_slow_forward\u001b[0m\u001b[0;34m(\u001b[0m\u001b[0;34m*\u001b[0m\u001b[0minput\u001b[0m\u001b[0;34m,\u001b[0m \u001b[0;34m**\u001b[0m\u001b[0mkwargs\u001b[0m\u001b[0;34m)\u001b[0m\u001b[0;34m\u001b[0m\u001b[0;34m\u001b[0m\u001b[0m\n\u001b[1;32m    540\u001b[0m         \u001b[0;32melse\u001b[0m\u001b[0;34m:\u001b[0m\u001b[0;34m\u001b[0m\u001b[0;34m\u001b[0m\u001b[0m\n\u001b[0;32m--> 541\u001b[0;31m             \u001b[0mresult\u001b[0m \u001b[0;34m=\u001b[0m \u001b[0mself\u001b[0m\u001b[0;34m.\u001b[0m\u001b[0mforward\u001b[0m\u001b[0;34m(\u001b[0m\u001b[0;34m*\u001b[0m\u001b[0minput\u001b[0m\u001b[0;34m,\u001b[0m \u001b[0;34m**\u001b[0m\u001b[0mkwargs\u001b[0m\u001b[0;34m)\u001b[0m\u001b[0;34m\u001b[0m\u001b[0;34m\u001b[0m\u001b[0m\n\u001b[0m\u001b[1;32m    542\u001b[0m         \u001b[0;32mfor\u001b[0m \u001b[0mhook\u001b[0m \u001b[0;32min\u001b[0m \u001b[0mself\u001b[0m\u001b[0;34m.\u001b[0m\u001b[0m_forward_hooks\u001b[0m\u001b[0;34m.\u001b[0m\u001b[0mvalues\u001b[0m\u001b[0;34m(\u001b[0m\u001b[0;34m)\u001b[0m\u001b[0;34m:\u001b[0m\u001b[0;34m\u001b[0m\u001b[0;34m\u001b[0m\u001b[0m\n\u001b[1;32m    543\u001b[0m             \u001b[0mhook_result\u001b[0m \u001b[0;34m=\u001b[0m \u001b[0mhook\u001b[0m\u001b[0;34m(\u001b[0m\u001b[0mself\u001b[0m\u001b[0;34m,\u001b[0m \u001b[0minput\u001b[0m\u001b[0;34m,\u001b[0m \u001b[0mresult\u001b[0m\u001b[0;34m)\u001b[0m\u001b[0;34m\u001b[0m\u001b[0;34m\u001b[0m\u001b[0m\n",
      "\u001b[0;32m<ipython-input-4-b6cbde752ea9>\u001b[0m in \u001b[0;36mforward\u001b[0;34m(self, z)\u001b[0m\n\u001b[1;32m     34\u001b[0m \u001b[0;34m\u001b[0m\u001b[0m\n\u001b[1;32m     35\u001b[0m     \u001b[0;32mdef\u001b[0m \u001b[0mforward\u001b[0m\u001b[0;34m(\u001b[0m\u001b[0mself\u001b[0m\u001b[0;34m,\u001b[0m \u001b[0mz\u001b[0m\u001b[0;34m)\u001b[0m\u001b[0;34m:\u001b[0m\u001b[0;34m\u001b[0m\u001b[0;34m\u001b[0m\u001b[0m\n\u001b[0;32m---> 36\u001b[0;31m         \u001b[0;32mreturn\u001b[0m \u001b[0mself\u001b[0m\u001b[0;34m.\u001b[0m\u001b[0mmodel\u001b[0m\u001b[0;34m(\u001b[0m\u001b[0mz\u001b[0m\u001b[0;34m)\u001b[0m\u001b[0;34m\u001b[0m\u001b[0;34m\u001b[0m\u001b[0m\n\u001b[0m\u001b[1;32m     37\u001b[0m \u001b[0;34m\u001b[0m\u001b[0m\n\u001b[1;32m     38\u001b[0m \u001b[0;34m\u001b[0m\u001b[0m\n",
      "\u001b[0;32m~/anaconda3/lib/python3.7/site-packages/torch/nn/modules/module.py\u001b[0m in \u001b[0;36m__call__\u001b[0;34m(self, *input, **kwargs)\u001b[0m\n\u001b[1;32m    539\u001b[0m             \u001b[0mresult\u001b[0m \u001b[0;34m=\u001b[0m \u001b[0mself\u001b[0m\u001b[0;34m.\u001b[0m\u001b[0m_slow_forward\u001b[0m\u001b[0;34m(\u001b[0m\u001b[0;34m*\u001b[0m\u001b[0minput\u001b[0m\u001b[0;34m,\u001b[0m \u001b[0;34m**\u001b[0m\u001b[0mkwargs\u001b[0m\u001b[0;34m)\u001b[0m\u001b[0;34m\u001b[0m\u001b[0;34m\u001b[0m\u001b[0m\n\u001b[1;32m    540\u001b[0m         \u001b[0;32melse\u001b[0m\u001b[0;34m:\u001b[0m\u001b[0;34m\u001b[0m\u001b[0;34m\u001b[0m\u001b[0m\n\u001b[0;32m--> 541\u001b[0;31m             \u001b[0mresult\u001b[0m \u001b[0;34m=\u001b[0m \u001b[0mself\u001b[0m\u001b[0;34m.\u001b[0m\u001b[0mforward\u001b[0m\u001b[0;34m(\u001b[0m\u001b[0;34m*\u001b[0m\u001b[0minput\u001b[0m\u001b[0;34m,\u001b[0m \u001b[0;34m**\u001b[0m\u001b[0mkwargs\u001b[0m\u001b[0;34m)\u001b[0m\u001b[0;34m\u001b[0m\u001b[0;34m\u001b[0m\u001b[0m\n\u001b[0m\u001b[1;32m    542\u001b[0m         \u001b[0;32mfor\u001b[0m \u001b[0mhook\u001b[0m \u001b[0;32min\u001b[0m \u001b[0mself\u001b[0m\u001b[0;34m.\u001b[0m\u001b[0m_forward_hooks\u001b[0m\u001b[0;34m.\u001b[0m\u001b[0mvalues\u001b[0m\u001b[0;34m(\u001b[0m\u001b[0;34m)\u001b[0m\u001b[0;34m:\u001b[0m\u001b[0;34m\u001b[0m\u001b[0;34m\u001b[0m\u001b[0m\n\u001b[1;32m    543\u001b[0m             \u001b[0mhook_result\u001b[0m \u001b[0;34m=\u001b[0m \u001b[0mhook\u001b[0m\u001b[0;34m(\u001b[0m\u001b[0mself\u001b[0m\u001b[0;34m,\u001b[0m \u001b[0minput\u001b[0m\u001b[0;34m,\u001b[0m \u001b[0mresult\u001b[0m\u001b[0;34m)\u001b[0m\u001b[0;34m\u001b[0m\u001b[0;34m\u001b[0m\u001b[0m\n",
      "\u001b[0;32m~/anaconda3/lib/python3.7/site-packages/torch/nn/modules/container.py\u001b[0m in \u001b[0;36mforward\u001b[0;34m(self, input)\u001b[0m\n\u001b[1;32m     90\u001b[0m     \u001b[0;32mdef\u001b[0m \u001b[0mforward\u001b[0m\u001b[0;34m(\u001b[0m\u001b[0mself\u001b[0m\u001b[0;34m,\u001b[0m \u001b[0minput\u001b[0m\u001b[0;34m)\u001b[0m\u001b[0;34m:\u001b[0m\u001b[0;34m\u001b[0m\u001b[0;34m\u001b[0m\u001b[0m\n\u001b[1;32m     91\u001b[0m         \u001b[0;32mfor\u001b[0m \u001b[0mmodule\u001b[0m \u001b[0;32min\u001b[0m \u001b[0mself\u001b[0m\u001b[0;34m.\u001b[0m\u001b[0m_modules\u001b[0m\u001b[0;34m.\u001b[0m\u001b[0mvalues\u001b[0m\u001b[0;34m(\u001b[0m\u001b[0;34m)\u001b[0m\u001b[0;34m:\u001b[0m\u001b[0;34m\u001b[0m\u001b[0;34m\u001b[0m\u001b[0m\n\u001b[0;32m---> 92\u001b[0;31m             \u001b[0minput\u001b[0m \u001b[0;34m=\u001b[0m \u001b[0mmodule\u001b[0m\u001b[0;34m(\u001b[0m\u001b[0minput\u001b[0m\u001b[0;34m)\u001b[0m\u001b[0;34m\u001b[0m\u001b[0;34m\u001b[0m\u001b[0m\n\u001b[0m\u001b[1;32m     93\u001b[0m         \u001b[0;32mreturn\u001b[0m \u001b[0minput\u001b[0m\u001b[0;34m\u001b[0m\u001b[0;34m\u001b[0m\u001b[0m\n\u001b[1;32m     94\u001b[0m \u001b[0;34m\u001b[0m\u001b[0m\n",
      "\u001b[0;32m~/anaconda3/lib/python3.7/site-packages/torch/nn/modules/module.py\u001b[0m in \u001b[0;36m__call__\u001b[0;34m(self, *input, **kwargs)\u001b[0m\n\u001b[1;32m    539\u001b[0m             \u001b[0mresult\u001b[0m \u001b[0;34m=\u001b[0m \u001b[0mself\u001b[0m\u001b[0;34m.\u001b[0m\u001b[0m_slow_forward\u001b[0m\u001b[0;34m(\u001b[0m\u001b[0;34m*\u001b[0m\u001b[0minput\u001b[0m\u001b[0;34m,\u001b[0m \u001b[0;34m**\u001b[0m\u001b[0mkwargs\u001b[0m\u001b[0;34m)\u001b[0m\u001b[0;34m\u001b[0m\u001b[0;34m\u001b[0m\u001b[0m\n\u001b[1;32m    540\u001b[0m         \u001b[0;32melse\u001b[0m\u001b[0;34m:\u001b[0m\u001b[0;34m\u001b[0m\u001b[0;34m\u001b[0m\u001b[0m\n\u001b[0;32m--> 541\u001b[0;31m             \u001b[0mresult\u001b[0m \u001b[0;34m=\u001b[0m \u001b[0mself\u001b[0m\u001b[0;34m.\u001b[0m\u001b[0mforward\u001b[0m\u001b[0;34m(\u001b[0m\u001b[0;34m*\u001b[0m\u001b[0minput\u001b[0m\u001b[0;34m,\u001b[0m \u001b[0;34m**\u001b[0m\u001b[0mkwargs\u001b[0m\u001b[0;34m)\u001b[0m\u001b[0;34m\u001b[0m\u001b[0;34m\u001b[0m\u001b[0m\n\u001b[0m\u001b[1;32m    542\u001b[0m         \u001b[0;32mfor\u001b[0m \u001b[0mhook\u001b[0m \u001b[0;32min\u001b[0m \u001b[0mself\u001b[0m\u001b[0;34m.\u001b[0m\u001b[0m_forward_hooks\u001b[0m\u001b[0;34m.\u001b[0m\u001b[0mvalues\u001b[0m\u001b[0;34m(\u001b[0m\u001b[0;34m)\u001b[0m\u001b[0;34m:\u001b[0m\u001b[0;34m\u001b[0m\u001b[0;34m\u001b[0m\u001b[0m\n\u001b[1;32m    543\u001b[0m             \u001b[0mhook_result\u001b[0m \u001b[0;34m=\u001b[0m \u001b[0mhook\u001b[0m\u001b[0;34m(\u001b[0m\u001b[0mself\u001b[0m\u001b[0;34m,\u001b[0m \u001b[0minput\u001b[0m\u001b[0;34m,\u001b[0m \u001b[0mresult\u001b[0m\u001b[0;34m)\u001b[0m\u001b[0;34m\u001b[0m\u001b[0;34m\u001b[0m\u001b[0m\n",
      "\u001b[0;32m~/anaconda3/lib/python3.7/site-packages/torch/nn/modules/conv.py\u001b[0m in \u001b[0;36mforward\u001b[0;34m(self, input)\u001b[0m\n\u001b[1;32m    343\u001b[0m \u001b[0;34m\u001b[0m\u001b[0m\n\u001b[1;32m    344\u001b[0m     \u001b[0;32mdef\u001b[0m \u001b[0mforward\u001b[0m\u001b[0;34m(\u001b[0m\u001b[0mself\u001b[0m\u001b[0;34m,\u001b[0m \u001b[0minput\u001b[0m\u001b[0;34m)\u001b[0m\u001b[0;34m:\u001b[0m\u001b[0;34m\u001b[0m\u001b[0;34m\u001b[0m\u001b[0m\n\u001b[0;32m--> 345\u001b[0;31m         \u001b[0;32mreturn\u001b[0m \u001b[0mself\u001b[0m\u001b[0;34m.\u001b[0m\u001b[0mconv2d_forward\u001b[0m\u001b[0;34m(\u001b[0m\u001b[0minput\u001b[0m\u001b[0;34m,\u001b[0m \u001b[0mself\u001b[0m\u001b[0;34m.\u001b[0m\u001b[0mweight\u001b[0m\u001b[0;34m)\u001b[0m\u001b[0;34m\u001b[0m\u001b[0;34m\u001b[0m\u001b[0m\n\u001b[0m\u001b[1;32m    346\u001b[0m \u001b[0;34m\u001b[0m\u001b[0m\n\u001b[1;32m    347\u001b[0m \u001b[0;32mclass\u001b[0m \u001b[0mConv3d\u001b[0m\u001b[0;34m(\u001b[0m\u001b[0m_ConvNd\u001b[0m\u001b[0;34m)\u001b[0m\u001b[0;34m:\u001b[0m\u001b[0;34m\u001b[0m\u001b[0;34m\u001b[0m\u001b[0m\n",
      "\u001b[0;32m~/anaconda3/lib/python3.7/site-packages/torch/nn/modules/conv.py\u001b[0m in \u001b[0;36mconv2d_forward\u001b[0;34m(self, input, weight)\u001b[0m\n\u001b[1;32m    340\u001b[0m                             _pair(0), self.dilation, self.groups)\n\u001b[1;32m    341\u001b[0m         return F.conv2d(input, weight, self.bias, self.stride,\n\u001b[0;32m--> 342\u001b[0;31m                         self.padding, self.dilation, self.groups)\n\u001b[0m\u001b[1;32m    343\u001b[0m \u001b[0;34m\u001b[0m\u001b[0m\n\u001b[1;32m    344\u001b[0m     \u001b[0;32mdef\u001b[0m \u001b[0mforward\u001b[0m\u001b[0;34m(\u001b[0m\u001b[0mself\u001b[0m\u001b[0;34m,\u001b[0m \u001b[0minput\u001b[0m\u001b[0;34m)\u001b[0m\u001b[0;34m:\u001b[0m\u001b[0;34m\u001b[0m\u001b[0;34m\u001b[0m\u001b[0m\n",
      "\u001b[0;31mRuntimeError\u001b[0m: Given groups=1, weight of size 512 512 5 5, expected input[2, 3, 32, 32] to have 512 channels, but got 3 channels instead"
     ]
    }
   ],
   "source": [
    "# import package\n",
    "import torch.nn as nn\n",
    "import torch\n",
    "\n",
    "# define network\n",
    "class ConvolutionalImplicitModel(nn.Module):\n",
    "    def __init__(self, z_dim):\n",
    "        super( ConvolutionalImplicitModel, self).__init__()\n",
    "        self.z_dim = z_dim\n",
    "       \n",
    "        layers = []\n",
    "       \n",
    "        for i in range(5):\n",
    "               \n",
    "            for j in range(5):\n",
    "               \n",
    "                if i == 0 and j == 0:    \n",
    "                    layers.append(torch.nn.ConvTranspose2d(z_dim, 512, 4, stride=1, padding=0))\n",
    "                    layers.append(torch.nn.BatchNorm2d(512, momentum=0.001, affine=False))\n",
    "                    layers.append(torch.nn.LeakyReLU(0.2, inplace=True))\n",
    "                else:\n",
    "                    layers.append(torch.nn.Conv2d(512, 512, 5, stride=1, padding=2))\n",
    "                    layers.append(torch.nn.BatchNorm2d(512, momentum=0.001, affine=False))\n",
    "                    layers.append(torch.nn.LeakyReLU(0.2, inplace=True))\n",
    "           \n",
    "            if i < 4:\n",
    "                layers.append(torch.nn.Upsample(scale_factor=2, mode='bilinear', align_corners = False))\n",
    "            else:\n",
    "                layers.append(torch.nn.Conv2d(512, 3, 5, stride=1, padding=2))\n",
    "                layers.append(torch.nn.Sigmoid())\n",
    "       \n",
    "        self.model = torch.nn.Sequential(*layers)\n",
    "        self.add_module(\"model\", self.model)\n",
    "       \n",
    "    def forward(self, z):\n",
    "        return self.model(z)\n",
    "    \n",
    "    \n",
    "#========================================================================================\n",
    "# initate model\n",
    "z_dim = 98\n",
    "batch_size = 2\n",
    "model = ConvolutionalImplicitModel(z_dim)\n",
    "\n",
    "# test output\n",
    "z = torch.randn(batch_size, z_dim, 1, 1)\n",
    "print(model(z).shape)"
   ]
  },
  {
   "cell_type": "markdown",
   "metadata": {},
   "source": [
    "## Inspect data.\n"
   ]
  },
  {
   "cell_type": "code",
   "execution_count": null,
   "metadata": {},
   "outputs": [],
   "source": [
    "train_data = np.load(\"../training_set_des.npy\")[::100,0:1,:,:]\n",
    "print(train_data.shape)\n",
    "\n",
    "plt.hist(train_data.flatten(), bins=[0])"
   ]
  },
  {
   "cell_type": "code",
   "execution_count": null,
   "metadata": {},
   "outputs": [],
   "source": []
  }
 ],
 "metadata": {
  "kernelspec": {
   "display_name": "Python 3",
   "language": "python",
   "name": "python3"
  },
  "language_info": {
   "codemirror_mode": {
    "name": "ipython",
    "version": 3
   },
   "file_extension": ".py",
   "mimetype": "text/x-python",
   "name": "python",
   "nbconvert_exporter": "python",
   "pygments_lexer": "ipython3",
   "version": "3.7.4"
  }
 },
 "nbformat": 4,
 "nbformat_minor": 2
}
