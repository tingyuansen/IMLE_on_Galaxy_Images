{
 "cells": [
  {
   "cell_type": "code",
   "execution_count": 23,
   "metadata": {},
   "outputs": [],
   "source": [
    "%matplotlib inline\n",
    "\n",
    "# import packages\n",
    "import numpy as np\n",
    "import time\n",
    "import pandas as pd\n",
    "\n",
    "import matplotlib\n",
    "import matplotlib.pyplot as plt\n",
    "import matplotlib.colors as colors\n",
    "import matplotlib.cm as cm\n",
    "from matplotlib import gridspec\n",
    "\n",
    "import torch\n",
    "from torch.nn import Linear, LeakyReLU, MSELoss, Sequential\n",
    "from torch.optim import Adam\n",
    "\n",
    "from kymatio import Scattering1D\n"
   ]
  },
  {
   "cell_type": "code",
   "execution_count": 24,
   "metadata": {},
   "outputs": [],
   "source": [
    "# define plot properties\n",
    "from cycler import cycler\n",
    "import matplotlib.cm as cm\n",
    "\n",
    "from matplotlib import rcParams\n",
    "from matplotlib import rc\n",
    "from mpl_toolkits.axes_grid1 import make_axes_locatable\n",
    "\n",
    "def rgb(r,g,b):\n",
    "    return (float(r)/256.,float(g)/256.,float(b)/256.)\n",
    "\n",
    "cb2 = [rgb(31,120,180), rgb(255,127,0), rgb(51,160,44), rgb(227,26,28), \\\n",
    "       rgb(166,206,227), rgb(253,191,111), rgb(178,223,138), rgb(251,154,153)]\n",
    "\n",
    "rcParams['figure.figsize'] = (9,7.5)\n",
    "#rcParams['figure.dpi'] = 300\n",
    "\n",
    "rcParams['lines.linewidth'] = 1\n",
    "\n",
    "rcParams['axes.prop_cycle'] = cycler('color', cb2)\n",
    "rcParams['axes.facecolor'] = 'white'\n",
    "rcParams['axes.grid'] = False\n",
    "\n",
    "rcParams['patch.facecolor'] = cb2[0]\n",
    "rcParams['patch.edgecolor'] = 'white'\n",
    "\n",
    "rcParams['font.size'] = 23\n"
   ]
  },
  {
   "cell_type": "markdown",
   "metadata": {},
   "source": [
    "> Calculate scattering coefficients."
   ]
  },
  {
   "cell_type": "code",
   "execution_count": null,
   "metadata": {},
   "outputs": [],
   "source": [
    "# import packages\n",
    "from kymatio import Scattering1D\n",
    "import kymatio\n",
    "\n",
    "import torch.nn as nn\n",
    "import torch.optim\n",
    "import torch\n",
    "import torch.utils.data as utils\n",
    "\n",
    "import time\n",
    "import sys\n",
    "\n",
    "import numpy as np\n",
    "\n",
    "\n",
    "#=========================================================================================================\n",
    "# load light curves\n",
    "real_spec = np.load(\"../light_curve.npy\")[:10,:]\n",
    "print(real_spec.shape)\n",
    "\n",
    "### change the amplitude\n",
    "#real_spec = real_spec*2.\n",
    "\n",
    "## mix two modes\n",
    "#real_spec = (real_spec[:,:] + real_spec[::-1,:])/2.\n",
    "\n",
    "\n",
    "#================================================================================================\n",
    "# define wavelet scattering hyperparameters\n",
    "J = 6\n",
    "Q = 8\n",
    "T = real_spec.shape[1]\n",
    "\n",
    "# convert into torch variable\n",
    "x = torch.from_numpy(real_spec[:,:T]).type(torch.FloatTensor)\n",
    "print(x.shape)\n",
    "\n",
    "# define wavelet scattering\n",
    "scattering = Scattering1D(J, T, Q)\n",
    "\n",
    "#================================================================================================\n",
    "# perform wavelet scattering\n",
    "Sx_all = scattering.forward(x)\n",
    "\n",
    "# calculate invariate representation\n",
    "Sx_all = torch.mean(Sx_all, dim=-1)\n",
    "\n",
    "# normalize wrt to the first coefficient\n",
    "for i in range(Sx_all.shape[0]):\n",
    "    Sx_all[i,:] = Sx_all[i,:]/np.abs(Sx_all[i,0])\n",
    "    \n",
    "# take log to normalize the coefficient better\n",
    "Sx_all = torch.log10(Sx_all[:,1:])\n",
    "print(Sx_all.shape)"
   ]
  },
  {
   "cell_type": "code",
   "execution_count": null,
   "metadata": {},
   "outputs": [],
   "source": [
    "Sx_all_1 = np.copy(Sx_all)"
   ]
  },
  {
   "cell_type": "code",
   "execution_count": null,
   "metadata": {},
   "outputs": [],
   "source": [
    "Sx_all = Sx_all.numpy()"
   ]
  },
  {
   "cell_type": "code",
   "execution_count": null,
   "metadata": {},
   "outputs": [],
   "source": [
    "print(Sx_all_1[0,:])\n",
    "plt.plot(Sx_all_1[0,:])\n",
    "plt.plot(Sx_all[0,:])"
   ]
  },
  {
   "cell_type": "markdown",
   "metadata": {},
   "source": [
    "> Check wavelet scattering coefficients."
   ]
  },
  {
   "cell_type": "code",
   "execution_count": null,
   "metadata": {},
   "outputs": [],
   "source": [
    "# load scattering coefficients\n",
    "Sx = np.load(\"../Sx_all.npy\")\n",
    "plt.hist(Sx.ravel(), bins=100);"
   ]
  },
  {
   "cell_type": "markdown",
   "metadata": {},
   "source": [
    "> Sample log probablity."
   ]
  },
  {
   "cell_type": "code",
   "execution_count": 35,
   "metadata": {},
   "outputs": [
    {
     "name": "stdout",
     "output_type": "stream",
     "text": [
      "[91.19491  94.091995 83.18386  85.694664 82.14912  86.8983   81.03339\n",
      " 82.04837  70.570145 87.015564 79.786865 88.43672  87.81172  93.21024\n",
      " 75.55521  91.42044  77.60397  84.65467  83.44016  84.40744  91.354324\n",
      " 77.00455  89.01841  84.7455   80.38911  70.88538  93.51345  81.08316\n",
      " 91.31123  92.53864  81.09406  80.020615 88.68295  69.4708   74.705536\n",
      " 81.38484  83.60454  84.16458  94.12302  91.45237  88.20964  80.039856\n",
      " 76.221985 84.04499  89.97259  78.1087   71.0566   86.63422  79.42034\n",
      " 88.655876 84.76482  81.43672  73.804214 83.40196  62.809464 83.815544\n",
      " 78.7648   72.360565 70.96687  61.19709  90.41368  87.27057  80.04398\n",
      " 73.242065 77.3677   93.80472  82.795    76.84898  85.941864 91.671875\n",
      " 80.90761  93.312225 72.23302  76.56989  81.5719   95.529236 88.26792\n",
      " 91.619835 91.99757  89.60699  76.65853  63.424957 87.17854  97.50861\n",
      " 84.49036  94.53281  84.97402  75.313385 83.44032  85.11401  78.477005\n",
      " 90.71182  83.16078  88.29582  88.89912  91.57904  75.822426 77.72447\n",
      " 91.49437  78.74025  84.731766 90.87263  87.30923  76.65053  91.0142\n",
      " 79.87735  89.125656 73.971695 70.941734 62.63658  80.44908  83.86759\n",
      " 79.36453  82.30032  90.90573  77.92239  82.44548  84.61734  87.45167\n",
      " 72.75679  79.91969  74.27109  82.09589  79.87741  80.23955  80.16494\n",
      " 87.89543  75.74106  82.202415 88.44719  94.35664  68.99463  87.65542\n",
      " 78.23691  88.69929  81.666664 72.04323  84.122826 72.5072   79.45108\n",
      " 96.94428  69.0219   87.91278  91.56124  73.7549   83.881004 88.31538\n",
      " 86.53299  80.54222  85.12196  83.14215  93.038826 79.91133  87.23623\n",
      " 84.08775  30.282616 88.40495  71.65887  89.99417  92.71883  85.68089\n",
      " 86.651535 88.67749  76.573784 85.6787   79.771545 85.133156 80.0742\n",
      " 85.371895 68.99622  88.28674  82.52881  71.92299  86.206436 85.86691\n",
      " 87.50383  86.9938   78.90129  79.00496  76.12842  78.49231  86.3066\n",
      " 80.45915  83.42746  75.573875 84.18202  79.42954  86.79352  81.022835\n",
      " 84.89435  83.45272  74.698    87.66222  92.27378  93.423935 66.431\n",
      " 81.72836  74.28287  84.30637  91.41812  93.197014 83.76857  86.584755\n",
      " 86.60439  74.7478   88.79551  83.71752  87.21371  86.40459  95.64495\n",
      " 78.7773   85.10218  90.16039  80.25165  77.94049  80.5685   75.297195\n",
      " 79.79963  85.30686  80.955956 86.78112  71.94914  83.86573  80.843185\n",
      " 89.46698  83.84617  78.53722  73.68077  85.620514 78.927986 78.37179\n",
      " 74.55757  87.01075  79.53261  88.55024  80.32692  94.98122  82.89244\n",
      " 89.23303  91.19695  90.35211  85.37348  83.06463  78.04787  80.301254\n",
      " 77.331696 68.00281  88.52373  77.19168  88.69552  85.324234 74.02896\n",
      " 87.08322  87.01518  91.96886  67.882164 82.91717  78.22331  80.45265\n",
      " 82.002235 79.33446  84.85251  85.78151  91.4095   90.83292  66.621475\n",
      " 78.76166  92.47262  82.508194 75.37837  76.70981  67.494095 85.40672\n",
      " 80.28476  78.36501  80.76118  88.721954 83.48729  92.53326  83.80395\n",
      " 69.982956 76.10481  76.69188  70.2398   89.43227  85.26954  90.93028\n",
      " 82.87882  79.519135 75.98474  75.50141  57.842484 80.81941  91.2404\n",
      " 63.853577 83.41584  77.12664  83.87204  61.45883  91.08448  83.35556\n",
      " 80.831505 93.39309  78.889984 85.81111  73.893845 85.783325 80.03848\n",
      " 69.2776   82.0199   95.102455 77.84145  67.85201  76.92424  89.35039\n",
      " 84.51817  58.31829  74.248276 98.48674  84.48007  89.32214  84.7022\n",
      " 75.08892  93.127235 88.63875  81.50609  87.72896  91.556625 67.588806\n",
      " 78.38193  87.636246 87.57223  80.3985   91.56435  85.60601  80.06335\n",
      " 93.62464  93.727684 76.96335  78.09265  55.077454 84.43049  89.82886\n",
      " 90.35673  76.463234 72.63475  92.206345 85.94128  73.86962  76.85695\n",
      " 77.37238  87.19945  90.77475  90.12775  96.09892  68.953224 82.45906\n",
      " 93.597565 69.528625 88.50888  83.61974  90.23425  83.18902  87.694534\n",
      " 77.24989  92.12625  77.82503  88.45949  88.39909  78.52227  78.39607\n",
      " 73.58957  85.84331  90.74907  83.920334 79.873024 76.382675 80.510956\n",
      " 95.38591  85.79683  91.59344  58.61673  85.77724  83.94645  90.9314\n",
      " 68.26663  70.853966 86.75679  97.363754 83.7888   73.620255 75.181435\n",
      " 84.956055 86.64786  73.546814 93.95118  83.35532  96.18125  80.20413\n",
      " 81.795334 80.98831  83.4285   82.88541  80.23917  73.37683  85.05374\n",
      " 90.61579  78.68587  90.697525 81.09018  84.55162  85.911156 84.8949\n",
      " 94.822556 88.349754 87.20116  83.47284  89.88707  66.08305  76.31727\n",
      " 86.153984 87.163864 79.1382   62.8276   75.956215 67.98569  89.37521\n",
      " 93.84834  81.13446  76.380615 73.33644  51.584625 82.75395  85.72618\n",
      " 79.931755 78.95593  82.93695  77.61865  75.86038  88.682045 83.04197\n",
      " 94.67389  74.99495  64.3952   82.16014  92.98905  70.73673  81.92056\n",
      " 81.47069  84.38724  94.68902  85.220924 75.45589  84.1358   82.527145\n",
      " 86.43632  72.06378  80.84508  84.51247  86.2546   90.5544   97.39377\n",
      " 76.41149  86.568405 79.77353  73.3574   90.09444  81.37274  85.968185\n",
      " 82.44221  89.08812  60.960037 93.301544 82.51004  82.16102  77.476425\n",
      " 82.09872  63.68328  81.474686 73.66849  87.38661  82.3369   81.28159\n",
      " 86.861115 82.785416 89.29745  73.47763  76.85774  92.487465 92.03079\n",
      " 74.537735 96.31665  80.24884  86.38477  68.137085 91.91525  83.059326\n",
      " 88.17171  70.57338  70.61139  76.346375 82.8737   73.97587  75.55641\n",
      " 82.74535  73.111885 85.92575  85.98999  90.79026  94.90006  94.73999\n",
      " 78.648094 85.52409  80.4826   88.867935 62.49913  72.55348  84.99707\n",
      " 73.8661   67.90906  74.527435 86.03577  57.795822 89.994156 83.967125\n",
      " 90.226776 75.277435 82.736694 66.70364  92.20117  77.862015 92.646255\n",
      " 70.20183  94.56218  86.04815  86.287704 91.389595 88.427185 85.4346\n",
      " 79.99684  82.585266 96.50946  88.33713  73.91321  93.23828  96.01411\n",
      " 74.87392  78.55662  86.75788  85.6907   89.0547   83.17021  76.58325\n",
      " 77.14823  75.38668  82.19627  85.31943  89.936356 84.204254 81.84243\n",
      " 86.73473  79.180916 88.60309  89.769455 65.03073  84.48082  87.51021\n",
      " 91.783134 94.28879  96.32445  78.60722  92.02184  74.992905 73.37832\n",
      " 94.3105   81.0315   90.974884 87.74626  90.0833   85.8374   91.51703\n",
      " 60.77652  58.78781  83.34399  67.42087  80.79744  78.59267  81.251114\n",
      " 84.90271  82.5271   84.553055 83.772995 81.046104 72.09863  79.07754\n",
      " 88.6913   70.50252  85.88121  95.493965 80.623    79.53909  89.253075\n",
      " 84.46227  83.23782  97.79745  93.07333  82.871994 88.31404  74.69983\n",
      " 79.55867  96.25239  85.65959  83.97375  84.3151   57.962013 73.48209\n",
      " 83.580246 77.98608  64.334946 85.78695  64.417465 84.17506  84.88697\n",
      " 79.08299  78.133484 81.69059  69.110825 78.613686 90.39839  95.13266\n",
      " 87.13717  87.53665  86.383575 86.627914 54.770157 81.44434  92.99002\n",
      " 86.5746   81.804855 86.605316 88.1095   96.22452  94.55981  86.67244\n",
      " 85.99008  67.98251  83.31212  82.87807  91.59927  73.440125 78.75838\n",
      " 77.17647  71.285446 88.98131  85.0407   68.61388  81.95143  61.469437\n",
      " 85.1264   69.774796 91.83311  83.114296 81.08798  82.71117  80.56869\n",
      " 62.869698 85.51424  85.16131  75.157425 87.03369  76.34154  82.58651\n",
      " 87.40898  79.57381  69.122375 75.77254  75.482605 71.293015 75.50801\n",
      " 86.200356 90.77667  87.47146  86.2294   90.53132  73.47858  88.318115\n",
      " 78.04551  62.322624 80.299065 56.607574 80.12792  95.04786  81.859764\n",
      " 86.5793   79.624794 89.86183  86.735245 84.39606  81.548584 89.03166\n",
      " 90.96327  78.49117  88.32982  90.29971  84.61328  94.312675 88.780876\n",
      " 70.35592  73.1113   85.74147  88.42004  72.323875 90.18648  90.576004\n",
      " 93.677986 83.883    74.53642  73.23098  73.5524   90.94328  84.87036\n",
      " 77.7181   89.21003  76.12458  91.74455  79.46314  88.76943  84.545975\n",
      " 93.71982  79.35132  86.64162  84.68643  75.679474 79.8197   92.8743\n",
      " 87.85665  99.06415  87.94926  89.998886 91.37146  88.534515 75.73692\n",
      " 82.12781  75.32808  88.411766 87.314255 93.982666 76.97569  90.22997\n",
      " 85.963165 91.398056 83.60292  84.74133  83.77791  87.87129  79.186844\n",
      " 78.53294  89.200485 76.67603  81.33553  91.13616  79.479164 79.16823\n",
      " 93.5219   72.65354  71.69974  86.26195  87.18013  89.68681  84.68233\n",
      " 85.07733  74.47034  85.643654 86.193474 75.66668  83.749214 80.33028\n",
      " 89.63755  78.69303  66.15567  89.21954  94.46524  88.36937  79.14958\n",
      " 90.73941  90.39078  86.90904  73.82429  79.874146 81.079    86.478775\n",
      " 52.930054 78.57804  75.98146  85.21942  75.68385  81.599045 60.308807\n",
      " 63.23941  70.94817  83.8264   71.105896 88.305145 92.26934  82.646576\n",
      " 93.702194 82.499016 88.93075  85.02679  83.91225  91.66791  82.40203\n",
      " 87.36732  90.92647  83.754196 93.71659  76.36902  86.80322  73.817215\n",
      " 66.18077  95.02307  78.186485 97.36492  90.31567  81.85697  73.68918\n",
      " 74.50322  86.57198  79.49135  71.00709  79.51254  83.544815 88.17374\n",
      " 75.92999  73.70003  67.01594  91.46572  88.68812  98.260315 86.57177\n",
      " 88.134995 84.98038  73.61789  80.92078  61.6184   76.53638  95.41357\n",
      " 81.58297  83.63009  77.800095 94.80976  81.17043  82.49759  82.71398\n",
      " 73.73523  87.3251   84.13492  93.41411  77.05803  64.37295  73.913956\n",
      " 74.23143  76.34872  75.14     89.50731  69.058    96.00901  85.56781\n",
      " 80.48491  82.561554 81.25081  70.465485 67.66484  86.296844 87.24634\n",
      " 67.22293  89.63408  78.10234  86.13423  82.30754  79.83917  96.57894\n",
      " 83.77167  75.143776 88.10352  68.038605 84.59064  88.73475  81.414055\n",
      " 84.43855  79.28069  76.74355  81.63543  87.48971  93.69607  89.50041\n",
      " 69.25659  74.605095 90.278114 88.96596  90.63372  71.89296  74.083435\n",
      " 84.42772  71.16794  92.01532  83.86844  82.48124  89.532455 71.59338\n",
      " 79.25556  75.388885 94.64519  87.32115  73.395386 78.63578  78.54591\n",
      " 73.08922  74.295815 85.82574  74.84831  88.83566  84.708176 95.44897\n",
      " 78.1411   97.133675 78.2556   89.37933  74.4749   86.32007  88.349434\n",
      " 84.02797  90.10597  92.11522  61.997726 86.06457  73.995056 85.70599\n",
      " 87.344376 92.56649  93.92854  84.74868  80.003555 88.53769  90.22758\n",
      " 65.13432  95.18849  91.21034  81.551    83.0243   55.9265   80.2501\n",
      " 75.30133  71.78019  69.57865  78.06215  71.946266 62.24211  75.85659\n",
      " 83.767654 95.54431  67.91231  95.37722  95.005974 83.05519  88.22137\n",
      " 93.15755  78.60907  68.95274  88.45187  80.19455  75.8517   90.73305\n",
      " 77.15528  87.816246 96.20132  93.544426 89.28789  80.4518   82.794525\n",
      " 87.68508  83.80402  81.47092  91.64336  83.685776 87.23905  86.075966\n",
      " 82.25404  77.18178  90.316666 85.2778   86.97766  67.79205  85.44284\n",
      " 83.62859  90.366035 75.57674  86.4579   80.23854  77.319275]\n"
     ]
    }
   ],
   "source": [
    "# import packages\n",
    "import numpy as np\n",
    "from astropy.io import fits\n",
    "import os\n",
    "\n",
    "import torch\n",
    "from torch import nn\n",
    "from torch import distributions\n",
    "from torch.nn.parameter import Parameter\n",
    "from torch.autograd import Variable\n",
    "\n",
    "os.environ['KMP_DUPLICATE_LIB_OK']='True'\n",
    "\n",
    "\n",
    "#========================================================================================================\n",
    "# read scattering coefficents\n",
    "y_tr = np.load(\"../Sx_all_validation_order=1.npy\")\n",
    "\n",
    "# read GP coefficients\n",
    "# y_tr = np.load(\"../kernel_param_mock_mixed_dt=0.001.npy\")\n",
    "\n",
    "# restore Lomb Scargle coefficients\n",
    "# temp = np.load(\"../g_lomb_scargle_mixed.npz\")\n",
    "# y_tr = temp[\"power_added\"]\n",
    "\n",
    "# convert into torch\n",
    "y_tr = torch.from_numpy(y_tr).type(torch.FloatTensor)\n",
    "\n",
    "\n",
    "#=======================================================================================================\n",
    "# In [2]:\n",
    "# define normalizing flow\n",
    "class RealNVP(nn.Module):\n",
    "    def __init__(self, nets, nett, mask, prior):\n",
    "        super(RealNVP, self).__init__()\n",
    "\n",
    "        self.prior = prior\n",
    "        self.mask = nn.Parameter(mask, requires_grad=False)\n",
    "        self.t = torch.nn.ModuleList([nett() for _ in range(len(masks))])\n",
    "        self.s = torch.nn.ModuleList([nets() for _ in range(len(masks))])\n",
    "\n",
    "    def g(self, z):\n",
    "        x = z\n",
    "        for i in range(len(self.t)):\n",
    "            x_ = x*self.mask[i]\n",
    "            s = self.s[i](x_)*(1 - self.mask[i])\n",
    "            t = self.t[i](x_)*(1 - self.mask[i])\n",
    "            x = x_ + (1 - self.mask[i]) * (x * torch.exp(s) + t)\n",
    "        return x\n",
    "\n",
    "    def f(self, x):\n",
    "        log_det_J, z = x.new_zeros(x.shape[0]), x\n",
    "        for i in reversed(range(len(self.t))):\n",
    "            z_ = self.mask[i] * z\n",
    "            s = self.s[i](z_) * (1-self.mask[i])\n",
    "            t = self.t[i](z_) * (1-self.mask[i])\n",
    "            z = (1 - self.mask[i]) * (z - t) * torch.exp(-s) + z_\n",
    "            log_det_J -= s.sum(dim=1)\n",
    "        return z, log_det_J\n",
    "\n",
    "    def log_prob(self,x):\n",
    "        z, logp = self.f(x)\n",
    "        return self.prior.log_prob(z) + logp\n",
    "\n",
    "    def sample(self, z):\n",
    "        x = self.g(z)\n",
    "        return x\n",
    "    \n",
    "    \n",
    "#==================================================================================\n",
    "# restore models\n",
    "flow = torch.load(\"../flow_final_wst_order=1.pt\", map_location=lambda storage, loc: storage) # load in cpu\n",
    "flow.eval()\n",
    "\n",
    "#-------------------------------------------------------------------------------------------------------\n",
    "# sample results\n",
    "log_prob_x = flow.log_prob(y_tr).detach().numpy()\n",
    "\n",
    "# save results\n",
    "np.savez(\"../real_nvp_results_light_curve_validation_order=1.npz\",\\\n",
    "         log_prob_x = log_prob_x)\n",
    "\n",
    "print(log_prob_x)"
   ]
  },
  {
   "cell_type": "code",
   "execution_count": 39,
   "metadata": {},
   "outputs": [
    {
     "name": "stderr",
     "output_type": "stream",
     "text": [
      " /Users/yting/anaconda3/lib/python3.7/site-packages/ipykernel_launcher.py:2: MatplotlibDeprecationWarning:\n",
      "The 'normed' kwarg was deprecated in Matplotlib 2.1 and will be removed in 3.1. Use 'density' instead.\n",
      " /Users/yting/anaconda3/lib/python3.7/site-packages/ipykernel_launcher.py:5: MatplotlibDeprecationWarning:\n",
      "The 'normed' kwarg was deprecated in Matplotlib 2.1 and will be removed in 3.1. Use 'density' instead.\n",
      " /Users/yting/anaconda3/lib/python3.7/site-packages/ipykernel_launcher.py:8: MatplotlibDeprecationWarning:\n",
      "The 'normed' kwarg was deprecated in Matplotlib 2.1 and will be removed in 3.1. Use 'density' instead.\n"
     ]
    },
    {
     "data": {
      "text/plain": [
       "Text(0, 0.5, '# light curves')"
      ]
     },
     "execution_count": 39,
     "metadata": {},
     "output_type": "execute_result"
    },
    {
     "data": {
      "image/png": "[encoded data removed]",
      "text/plain": [
       "<Figure size 648x540 with 1 Axes>"
      ]
     },
     "metadata": {
      "needs_background": "light"
     },
     "output_type": "display_data"
    }
   ],
   "source": [
    "temp = np.load(\"../real_nvp_results_light_curve_normal_order=1.npz\")\n",
    "plt.hist(temp[\"log_prob_x\"], bins=50, label=\"validation\", alpha=0.5, range=[-50,150], normed=True);\n",
    "\n",
    "temp = np.load(\"../real_nvp_results_light_curve_validation_order=1.npz\")\n",
    "plt.hist(temp[\"log_prob_x\"], bins=50, label=\"training\", alpha=0.5, range=[-50,150], normed=True);\n",
    "\n",
    "temp = np.load(\"../real_nvp_results_light_curve_mixed_order=1.npz\")\n",
    "plt.hist(temp[\"log_prob_x\"], bins=50, label=\"mixed\", alpha=0.5, range=[-100,150], normed=True);\n",
    "\n",
    "plt.legend()\n",
    "\n",
    "plt.xlabel(\"log probability\")\n",
    "plt.ylabel(\"# light curves\")"
   ]
  },
  {
   "cell_type": "markdown",
   "metadata": {},
   "source": [
    "## Gaussian Processes inputation.\n",
    "\n",
    "> Run with GPy. First a simple example.\n"
   ]
  },
  {
   "cell_type": "code",
   "execution_count": null,
   "metadata": {},
   "outputs": [],
   "source": [
    "import numpy as np\n",
    "import GPy\n",
    "\n",
    "# make mock data\n",
    "X = np.random.uniform(-3.,3.,(20,1))\n",
    "Y = np.sin(X) + np.random.randn(20,1)*0.05\n",
    "\n",
    "# define kernel\n",
    "kernel = GPy.kern.RBF(input_dim=1, variance=1., lengthscale=1.)\n",
    "m = GPy.models.GPRegression(X,Y,kernel)\n",
    "\n",
    "# optimize\n",
    "m.optimize(messages=True)\n",
    "m.optimize_restarts(num_restarts = 10)\n",
    "\n",
    "# display results\n",
    "fig = m.plot(plot_density=True)\n",
    "GPy.plotting.show(fig, filename='basic_gp_regression_density_notebook_optimized')"
   ]
  },
  {
   "cell_type": "markdown",
   "metadata": {},
   "source": [
    "> Make prediction with the models."
   ]
  },
  {
   "cell_type": "code",
   "execution_count": null,
   "metadata": {},
   "outputs": [],
   "source": [
    "plt.scatter(X,Y)\n",
    "\n",
    "X_array = np.linspace(-4,4,100)\n",
    "X_array = X_array.reshape(X_array.size,1)\n",
    "\n",
    "Y_predict = np.array(m.predict(X_array))[0,:,:]\n",
    "plt.plot(X_array,Y_predict)"
   ]
  },
  {
   "cell_type": "markdown",
   "metadata": {},
   "source": [
    "> Try with real light curve."
   ]
  },
  {
   "cell_type": "code",
   "execution_count": null,
   "metadata": {},
   "outputs": [],
   "source": [
    "import GPy\n",
    "\n",
    "# load light curve\n",
    "temp = np.load(\"../light_curve.npz\")\n",
    "light_curve = temp[\"light_curve\"]\n",
    "t_array = temp[\"t_array\"]\n",
    "\n",
    "# extract a single light cure\n",
    "X = t_array[0,:]\n",
    "X = X.reshape(X.size,-1)\n",
    "Y = light_curve[0,:]\n",
    "Y = Y.reshape(Y.size,-1)\n",
    "\n",
    "# define kernel\n",
    "kernel = GPy.kern.RBF(input_dim=1, variance=1., lengthscale=1.)\n",
    "m = GPy.models.GPRegression(X[::10],Y[::10],kernel)\n",
    "\n",
    "# optimize\n",
    "m.optimize(messages=True)\n",
    "m.optimize_restarts(num_restarts = 10)\n",
    "\n",
    "# display results\n",
    "fig = m.plot(plot_density=True)\n",
    "GPy.plotting.show(fig, filename='basic_gp_regression_density_notebook_optimized')"
   ]
  },
  {
   "cell_type": "code",
   "execution_count": null,
   "metadata": {},
   "outputs": [],
   "source": [
    "plt.plot(t_array[0,:],light_curve[0,:], color=cb2[1])\n",
    "\n",
    "X_array = t_array[0,:]\n",
    "X_array = X_array.reshape(X_array.size,1)\n",
    "\n",
    "Y_predict = np.array(m.predict(X_array))[0,:,0]\n",
    "Y_std = np.sqrt(np.array(m.predict(X_array))[1,:,0])\n",
    "\n",
    "plt.plot(X_array[:,0],Y_predict, color=\"black\")\n",
    "plt.fill_between(X_array[:,0], Y_predict-Y_std, Y_predict+Y_std, color=cb2[0])"
   ]
  },
  {
   "cell_type": "markdown",
   "metadata": {},
   "source": [
    "## SDSS DR14 QSO.\n",
    "\n",
    "> Read data files.\n"
   ]
  },
  {
   "cell_type": "code",
   "execution_count": null,
   "metadata": {},
   "outputs": [],
   "source": [
    "## all flies\n",
    "import os\n",
    "list_files = os.listdir(\"../qso\")\n",
    "\n",
    "# initiate array\n",
    "mjd_g = []\n",
    "g_array = []\n",
    "mjd_r = []\n",
    "r_array = []\n",
    "list_files_store = []\n",
    "\n",
    "#-------------------------------------------------------------------------------------\n",
    "# loop over all files\n",
    "for i in range(len(list_files)):\n",
    "        \n",
    "    try:\n",
    "        # read data\n",
    "        data = np.loadtxt(\"../qso/\" + list_files[i])\n",
    "        mjd_g_temp = data[:,2]\n",
    "        g_temp = data[:,3]\n",
    "        mjd_r_temp = data[:,0]\n",
    "        r_temp = data[:,1]\n",
    "    \n",
    "        # cull empty entries and sort by time\n",
    "        choose = mjd_g_temp > 10.\n",
    "        mjd_g_temp = mjd_g_temp[choose]\n",
    "        g_temp = g_temp[choose]\n",
    "        choose = np.argsort(mjd_g_temp)\n",
    "        mjd_g_temp = mjd_g_temp[choose]\n",
    "        g_temp = g_temp[choose]\n",
    "    \n",
    "        choose = mjd_r_temp > 10.\n",
    "        mjd_r_temp = mjd_r_temp[choose]\n",
    "        r_temp = r_temp[choose]\n",
    "        choose = np.argsort(mjd_r_temp)\n",
    "        mjd_r_temp = mjd_r_temp[choose]\n",
    "        r_temp = r_temp[choose]\n",
    "\n",
    "        # record results\n",
    "        mjd_g.append(mjd_g_temp)\n",
    "        g_array.append(g_temp)\n",
    "        mjd_r.append(mjd_r_temp)\n",
    "        r_array.append(r_temp)\n",
    "        list_files_store.append(list_files[i])\n",
    "        \n",
    "    except:\n",
    "        print(i)\n",
    "\n",
    "# convert to numpy array\n",
    "mjd_g = np.array(mjd_g)\n",
    "g_array = np.array(g_array)\n",
    "mjd_r = np.array(mjd_r)\n",
    "r_array = np.array(r_array)\n",
    "list_files = np.array(list_files_store)\n",
    "\n",
    "#-------------------------------------------------------------------------------------\n",
    "# save results\n",
    "np.savez(\"../SDSS_DR14_qso.npz\",\\\n",
    "         mjd_g = mjd_g,\\\n",
    "         g_array = g_array,\\\n",
    "         mjd_r = mjd_r,\\\n",
    "         r_array = r_array,\\\n",
    "         list_files = list_files)\n"
   ]
  },
  {
   "cell_type": "markdown",
   "metadata": {},
   "source": [
    "> Investigate the time stamp range."
   ]
  },
  {
   "cell_type": "code",
   "execution_count": null,
   "metadata": {},
   "outputs": [],
   "source": [
    "# time step range\n",
    "mjd_g_range = np.array([mjd_g[i][-1]-mjd_g[i][0] for i in range(mjd_g.size)])\n",
    "mjd_r_range = np.array([mjd_r[i][-1]-mjd_r[i][0] for i in range(mjd_g.size)])\n",
    "\n",
    "plt.hist(mjd_g_range, bins=100, range=[400,500]);\n",
    "plt.hist(mjd_r_range, bins=100, range=[400,500]);\n"
   ]
  },
  {
   "cell_type": "code",
   "execution_count": null,
   "metadata": {},
   "outputs": [],
   "source": [
    "# time step recorded\n",
    "mjd_g_range = np.array([len(mjd_g[i]) for i in range(mjd_g.size)])\n",
    "mjd_r_range = np.array([len(mjd_r[i]) for i in range(mjd_g.size)])\n",
    "\n",
    "plt.hist(mjd_g_range, bins=100);\n",
    "plt.hist(mjd_r_range, bins=100);\n",
    "\n",
    "#print(np.where(mjd_g_range > 200))"
   ]
  },
  {
   "cell_type": "markdown",
   "metadata": {},
   "source": [
    "> Try Gaussian Processes on light curve."
   ]
  },
  {
   "cell_type": "code",
   "execution_count": 40,
   "metadata": {},
   "outputs": [
    {
     "data": {
      "application/vnd.jupyter.widget-view+json": {
       "model_id": "37eafa9d4d5641debaeaf8ef606fa0a2",
       "version_major": 2,
       "version_minor": 0
      },
      "text/plain": [
       "HBox(children=(VBox(children=(IntProgress(value=0, max=1000), HTML(value=''))), Box(children=(HTML(value=''),)…"
      ]
     },
     "metadata": {},
     "output_type": "display_data"
    },
    {
     "name": "stdout",
     "output_type": "stream",
     "text": [
      "Optimization restart 1/10, f = -70.9027613571524\n",
      "Optimization restart 2/10, f = 141.89385332047186\n",
      "Optimization restart 3/10, f = -70.90276135748456\n",
      "Optimization restart 4/10, f = 141.89385332046706\n",
      "Optimization restart 5/10, f = 141.89385289824259\n",
      "Optimization restart 6/10, f = 141.89385313956134\n",
      "Optimization restart 7/10, f = -70.90276135750824\n",
      "Optimization restart 8/10, f = 141.8938533204673\n",
      "Optimization restart 9/10, f = -70.9027613574423\n",
      "Optimization restart 10/10, f = -70.90276135751805\n",
      "  \u001b[1mMat32.     \u001b[0;0m  |               value  |  constraints  |  priors\n",
      "  \u001b[1mvariance   \u001b[0;0m  |  1.1333824420562153  |      +ve      |        \n",
      "  \u001b[1mlengthscale\u001b[0;0m  |   131.3569666721917  |      +ve      |        \n"
     ]
    },
    {
     "ename": "AttributeError",
     "evalue": "'dict' object has no attribute 'figure'",
     "output_type": "error",
     "traceback": [
      "\u001b[0;31m---------------------------------------------------------------------------\u001b[0m",
      "\u001b[0;31mAttributeError\u001b[0m                            Traceback (most recent call last)",
      "\u001b[0;32m<ipython-input-40-7da0f61b0c00>\u001b[0m in \u001b[0;36m<module>\u001b[0;34m\u001b[0m\n\u001b[1;32m     74\u001b[0m \u001b[0;31m# display results\u001b[0m\u001b[0;34m\u001b[0m\u001b[0;34m\u001b[0m\u001b[0;34m\u001b[0m\u001b[0m\n\u001b[1;32m     75\u001b[0m \u001b[0mfig\u001b[0m \u001b[0;34m=\u001b[0m \u001b[0mm\u001b[0m\u001b[0;34m.\u001b[0m\u001b[0mplot\u001b[0m\u001b[0;34m(\u001b[0m\u001b[0mplot_density\u001b[0m\u001b[0;34m=\u001b[0m\u001b[0;32mTrue\u001b[0m\u001b[0;34m)\u001b[0m\u001b[0;34m\u001b[0m\u001b[0;34m\u001b[0m\u001b[0m\n\u001b[0;32m---> 76\u001b[0;31m \u001b[0mGPy\u001b[0m\u001b[0;34m.\u001b[0m\u001b[0mplotting\u001b[0m\u001b[0;34m.\u001b[0m\u001b[0mshow\u001b[0m\u001b[0;34m(\u001b[0m\u001b[0mfig\u001b[0m\u001b[0;34m,\u001b[0m \u001b[0mfilename\u001b[0m\u001b[0;34m=\u001b[0m\u001b[0;34m'basic_gp_regression_density_notebook_optimized'\u001b[0m\u001b[0;34m)\u001b[0m\u001b[0;34m\u001b[0m\u001b[0;34m\u001b[0m\u001b[0m\n\u001b[0m",
      "\u001b[0;32m~/anaconda3/lib/python3.7/site-packages/GPy/plotting/__init__.py\u001b[0m in \u001b[0;36mshow\u001b[0;34m(figure, **kwargs)\u001b[0m\n\u001b[1;32m    132\u001b[0m     \u001b[0;32mfor\u001b[0m \u001b[0mshowing\u001b[0m\u001b[0;34m/\u001b[0m\u001b[0mdrawing\u001b[0m \u001b[0ma\u001b[0m \u001b[0mfigure\u001b[0m\u001b[0;34m.\u001b[0m\u001b[0;34m\u001b[0m\u001b[0;34m\u001b[0m\u001b[0m\n\u001b[1;32m    133\u001b[0m     \"\"\"\n\u001b[0;32m--> 134\u001b[0;31m     \u001b[0;32mreturn\u001b[0m \u001b[0mplotting_library\u001b[0m\u001b[0;34m(\u001b[0m\u001b[0;34m)\u001b[0m\u001b[0;34m.\u001b[0m\u001b[0mshow_canvas\u001b[0m\u001b[0;34m(\u001b[0m\u001b[0mfigure\u001b[0m\u001b[0;34m,\u001b[0m \u001b[0;34m**\u001b[0m\u001b[0mkwargs\u001b[0m\u001b[0;34m)\u001b[0m\u001b[0;34m\u001b[0m\u001b[0;34m\u001b[0m\u001b[0m\n\u001b[0m\u001b[1;32m    135\u001b[0m \u001b[0;34m\u001b[0m\u001b[0m\n\u001b[1;32m    136\u001b[0m \u001b[0;34m\u001b[0m\u001b[0m\n",
      "\u001b[0;32m~/anaconda3/lib/python3.7/site-packages/GPy/plotting/matplot_dep/plot_definitions.py\u001b[0m in \u001b[0;36mshow_canvas\u001b[0;34m(self, ax, **kwargs)\u001b[0m\n\u001b[1;32m     94\u001b[0m \u001b[0;34m\u001b[0m\u001b[0m\n\u001b[1;32m     95\u001b[0m     \u001b[0;32mdef\u001b[0m \u001b[0mshow_canvas\u001b[0m\u001b[0;34m(\u001b[0m\u001b[0mself\u001b[0m\u001b[0;34m,\u001b[0m \u001b[0max\u001b[0m\u001b[0;34m,\u001b[0m \u001b[0;34m**\u001b[0m\u001b[0mkwargs\u001b[0m\u001b[0;34m)\u001b[0m\u001b[0;34m:\u001b[0m\u001b[0;34m\u001b[0m\u001b[0;34m\u001b[0m\u001b[0m\n\u001b[0;32m---> 96\u001b[0;31m         \u001b[0max\u001b[0m\u001b[0;34m.\u001b[0m\u001b[0mfigure\u001b[0m\u001b[0;34m.\u001b[0m\u001b[0mcanvas\u001b[0m\u001b[0;34m.\u001b[0m\u001b[0mdraw\u001b[0m\u001b[0;34m(\u001b[0m\u001b[0;34m)\u001b[0m\u001b[0;34m\u001b[0m\u001b[0;34m\u001b[0m\u001b[0m\n\u001b[0m\u001b[1;32m     97\u001b[0m         \u001b[0;32mreturn\u001b[0m \u001b[0max\u001b[0m\u001b[0;34m.\u001b[0m\u001b[0mfigure\u001b[0m\u001b[0;34m\u001b[0m\u001b[0;34m\u001b[0m\u001b[0m\n\u001b[1;32m     98\u001b[0m \u001b[0;34m\u001b[0m\u001b[0m\n",
      "\u001b[0;31mAttributeError\u001b[0m: 'dict' object has no attribute 'figure'"
     ]
    },
    {
     "data": {
      "image/png": "[encoded data removed]",
      "text/plain": [
       "<Figure size 648x540 with 1 Axes>"
      ]
     },
     "metadata": {
      "needs_background": "light"
     },
     "output_type": "display_data"
    }
   ],
   "source": [
    "import GPy\n",
    "import numpy as np\n",
    "\n",
    "\n",
    "#==================================================================================\n",
    "### restore mock grid ###\n",
    "temp = np.load(\"../SDSS_DR14_qso_mock_normal_dense.npz\", allow_pickle=True)\n",
    "mjd_g = temp[\"t_array\"][:,::100]\n",
    "g_array = temp[\"light_curve\"][:,::100]\n",
    "\n",
    "\n",
    "#==================================================================================\n",
    "# choose one object\n",
    "ind_choose = 0\n",
    "\n",
    "# extract a single light cure\n",
    "X = (mjd_g[ind_choose] - mjd_g[ind_choose][0])\n",
    "X = X.reshape(X.size,-1)\n",
    "Y = g_array[ind_choose]\n",
    "Y = Y.reshape(Y.size,-1)\n",
    "\n",
    "# define kernel\n",
    "k0 = GPy.kern.Matern32(1) \n",
    "k1 = GPy.kern.Matern32(1) \n",
    "k2 = GPy.kern.Matern32(1) \n",
    "\n",
    "#kernel = k0 + k1 + k2 \n",
    "kernel = k0 \n",
    "m = GPy.models.GPRegression(X, Y, kernel, normalizer=True)\n",
    "#print(m.kern)\n",
    "\n",
    "#-------------------------------------------------------------------------------------\n",
    "# set range parameters\n",
    "# m.kern.Mat32.lengthscale.constrain_bounded(0.1,1)\n",
    "# m.kern.Mat32.variance.constrain_bounded(1e-10,1e-5)\n",
    "\n",
    "# m.kern.Mat32_1.lengthscale.constrain_bounded(1,10)\n",
    "# m.kern.Mat32_1.variance.constrain_bounded(1e-10,1e-5)\n",
    "\n",
    "# m.kern.Mat32_2.lengthscale.constrain_bounded(10,100)\n",
    "# m.kern.Mat32_2.variance.constrain_bounded(1e-10,1.)\n",
    "\n",
    "# Fix the noise variance to known value \n",
    "#m.Gaussian_noise.variance = 1e-3**2\n",
    "#m.Gaussian_noise.variance.fix()\n",
    "\n",
    "# optimize\n",
    "m.optimize(messages=True)\n",
    "m.optimize_restarts(num_restarts = 10)\n",
    "print(m.kern)\n",
    "\n",
    "#-------------------------------------------------------------------------------------\n",
    "# extract parameters\n",
    "# lengthscale_array = np.array([m.kern.Mat32.lengthscale[0],\\\n",
    "#                          m.kern.Mat32_1.lengthscale[0],\\\n",
    "#                          m.kern.Mat32_2.lengthscale[0]])\n",
    "# variance_array = np.array([m.kern.Mat32.variance[0],\\\n",
    "#                          m.kern.Mat32_1.variance[0],\\\n",
    "#                          m.kern.Mat32_2.variance[0]])\n",
    "\n",
    "# # sort by lengthscale\n",
    "# length_sort = np.argsort(lengthscale_array)\n",
    "# lengthscale_array = lengthscale_array[length_sort]\n",
    "# variance_array = variance_array[length_sort]\n",
    "\n",
    "# # combine all parameters\n",
    "# kernel_param = np.concatenate([lengthscale_array,variance_array])\n",
    "# print(kernel_param)\n",
    "\n",
    "### assuming just one kernel\n",
    "kernel_param = np.concatenate([m.kern.lengthscale,m.kern.variance])\n",
    "\n",
    "#-------------------------------------------------------------------------------------\n",
    "# display results\n",
    "fig = m.plot(plot_density=True)\n",
    "GPy.plotting.show(fig, filename='basic_gp_regression_density_notebook_optimized')"
   ]
  },
  {
   "cell_type": "code",
   "execution_count": null,
   "metadata": {},
   "outputs": [],
   "source": [
    "# set grid to interpolate into\n",
    "X_array = np.arange(5120)*0.1\n",
    "X_array = X_array.reshape(X_array.size,1)\n",
    "\n",
    "# make prediction\n",
    "Y_predict = np.array(m.predict(X_array))[0,:,0]\n",
    "Y_std = np.sqrt(np.array(m.predict(X_array))[1,:,0])\n",
    "\n",
    "# original data\n",
    "plt.scatter(X.ravel(), Y.ravel(), color=cb2[1])\n",
    "\n",
    "# prediction\n",
    "plt.plot(X_array[:,0],Y_predict, color=\"black\")\n",
    "plt.fill_between(X_array[:,0], Y_predict-Y_std, Y_predict+Y_std, color=cb2[0], alpha=0.5)"
   ]
  },
  {
   "cell_type": "markdown",
   "metadata": {},
   "source": [
    "> Check time step gaps."
   ]
  },
  {
   "cell_type": "code",
   "execution_count": null,
   "metadata": {},
   "outputs": [],
   "source": [
    "# restore grid\n",
    "temp = np.load(\"../SDSS_DR14_qso.npz\", allow_pickle=True)\n",
    "mjd_g = temp[\"mjd_g\"]\n",
    "mjd_gap = []\n",
    "for i in range(mjd_g.size):\n",
    "    mjd_gap.extend(mjd_g[i][1:]-mjd_g[i][:-1])\n",
    "mjd_gap = np.array(mjd_gap)\n",
    "print(mjd_gap.size)\n",
    "plt.hist(mjd_gap, bins=100, range=[0,0.01])"
   ]
  },
  {
   "cell_type": "markdown",
   "metadata": {},
   "source": [
    "> Gaussian Processes in batch."
   ]
  },
  {
   "cell_type": "code",
   "execution_count": null,
   "metadata": {},
   "outputs": [],
   "source": [
    "# Gaussian Processes package\n",
    "import GPy\n",
    "import time\n",
    "from multiprocessing import Pool\n",
    "import os\n",
    "import numpy as np\n",
    "\n",
    "# set number of threads per CPU\n",
    "os.environ['OMP_NUM_THREADS']='{:d}'.format(1)\n",
    "\n",
    "#-------------------------------------------------------------------------------------\n",
    "# restore grid\n",
    "# temp = np.load(\"../SDSS_DR14_qso.npz\", allow_pickle=True)\n",
    "# mjd_g = temp[\"mjd_g\"]\n",
    "# g_array = temp[\"g_array\"]\n",
    "\n",
    "### restore mock grid ###\n",
    "temp = np.load(\"../SDSS_DR14_qso_mock.npz\", allow_pickle=True)\n",
    "mjd_g = temp[\"t_array\"]\n",
    "g_array = temp[\"light_curve\"]\n",
    "\n",
    "# set grid to interpolate into\n",
    "# X_array = np.arange(5120)*0.1\n",
    "# X_array = X_array.reshape(X_array.size,1)\n",
    "\n",
    "#-------------------------------------------------------------------------------------\n",
    "# interpolate with GP\n",
    "def GP_interp(ind_choose):\n",
    "\n",
    "    # extract a single light cure\n",
    "    X = (mjd_g[ind_choose] - mjd_g[ind_choose][0])\n",
    "    X = X.reshape(X.size,-1)\n",
    "    Y = g_array[ind_choose]\n",
    "    Y = Y.reshape(Y.size,-1)\n",
    "\n",
    "    # define kernel\n",
    "    k0 = GPy.kern.Matern32(1) \n",
    "    k1 = GPy.kern.Matern32(1) \n",
    "    k2 = GPy.kern.Matern32(1) \n",
    "    kernel = k0 + k1 + k2 \n",
    "    \n",
    "#-------------------------------------------------------------------------------------\n",
    "    # define regression\n",
    "    m = GPy.models.GPRegression(X, Y, kernel, normalizer=True)\n",
    "\n",
    "    # set range parameters\n",
    "#     m.kern.Mat32.lengthscale.constrain_bounded(0.1,1)\n",
    "#     m.kern.Mat32.variance.constrain_bounded(1e-10,1e-5)\n",
    "\n",
    "#     m.kern.Mat32_1.lengthscale.constrain_bounded(1,10)\n",
    "#     m.kern.Mat32_1.variance.constrain_bounded(1e-10,1e-5)\n",
    "\n",
    "#     m.kern.Mat32_2.lengthscale.constrain_bounded(10,100)\n",
    "#     m.kern.Mat32_2.variance.constrain_bounded(1e-10,1.)\n",
    "\n",
    "    # fix the noise variance to known value \n",
    "#     m.Gaussian_noise.variance = 1e-2**2\n",
    "#     m.Gaussian_noise.variance.fix()\n",
    "\n",
    "#-------------------------------------------------------------------------------------\n",
    "    # optimize\n",
    "    m.optimize(messages=True)\n",
    "    m.optimize_restarts(num_restarts = 10)\n",
    "\n",
    "    # make prediction\n",
    "    #Y_predict = np.array(m.predict(X_array))[0,:,0]\n",
    "    \n",
    "#-------------------------------------------------------------------------------------\n",
    "    # extract parameters\n",
    "    lengthscale_array = np.array([m.kern.Mat32.lengthscale[0],\\\n",
    "                                  m.kern.Mat32_1.lengthscale[0],\\\n",
    "                                  m.kern.Mat32_2.lengthscale[0]])\n",
    "    variance_array = np.array([m.kern.Mat32.variance[0],\\\n",
    "                               m.kern.Mat32_1.variance[0],\\\n",
    "                               m.kern.Mat32_2.variance[0]])\n",
    "\n",
    "    # sort by lengthscale\n",
    "    length_sort = np.argsort(lengthscale_array)\n",
    "    lengthscale_array = lengthscale_array[length_sort]\n",
    "    variance_array = variance_array[length_sort]\n",
    "\n",
    "    # combine all parameters\n",
    "    Y_predict = np.concatenate([lengthscale_array,variance_array])\n",
    "\n",
    "#-------------------------------------------------------------------------------------\n",
    "    # return prediction\n",
    "    return Y_predict\n",
    "\n",
    "\n",
    "#=====================================================================================\n",
    "# number of CPU to run in parallel\n",
    "num_CPU = 4\n",
    "pool = Pool(num_CPU)\n",
    "start_time = time.time()\n",
    "Y_predict_array = np.array(pool.map(GP_interp,range(mjd_g.size)))\n",
    "print(time.time()-start_time)\n",
    "    \n",
    "# save results\n",
    "np.save(\"../kernel_param_mock.npy\", np.array(Y_predict_array))\n"
   ]
  },
  {
   "cell_type": "markdown",
   "metadata": {},
   "source": [
    "> Plot kernel parameter distribution."
   ]
  },
  {
   "cell_type": "code",
   "execution_count": 12,
   "metadata": {},
   "outputs": [
    {
     "data": {
      "image/png": "[encoded data removed]",
      "text/plain": [
       "<Figure size 648x540 with 1 Axes>"
      ]
     },
     "metadata": {
      "needs_background": "light"
     },
     "output_type": "display_data"
    }
   ],
   "source": [
    "kernel_param = np.load(\"../kernel_param_mock.npy\")\n",
    "plt.hist(kernel_param[:,5],bins=100);"
   ]
  },
  {
   "cell_type": "markdown",
   "metadata": {},
   "source": [
    "> Plot training loss."
   ]
  },
  {
   "cell_type": "code",
   "execution_count": null,
   "metadata": {},
   "outputs": [],
   "source": [
    "temp = np.load(\"../loss_results.npz\")\n",
    "plt.plot(temp[\"loss_array\"])\n",
    "plt.ylim([-500,0])"
   ]
  },
  {
   "cell_type": "markdown",
   "metadata": {},
   "source": [
    "## Lomb Sargles as representations.\n",
    "\n",
    "> Using Lomb Scargles as a metric.\n",
    "\n",
    "Cannot use the interpolated version, because the Gaussian kernel period will imprint on it."
   ]
  },
  {
   "cell_type": "code",
   "execution_count": 4,
   "metadata": {},
   "outputs": [
    {
     "name": "stdout",
     "output_type": "stream",
     "text": [
      "0\n",
      "100\n",
      "200\n",
      "300\n",
      "400\n",
      "500\n",
      "600\n",
      "700\n",
      "800\n",
      "900\n"
     ]
    }
   ],
   "source": [
    "from astropy.timeseries import LombScargle\n",
    "from scipy import interpolate\n",
    "\n",
    "# choose a frequency grid to interpolate into\n",
    "frequency_interp = np.arange(1201)/1200.*0.6\n",
    "\n",
    "\n",
    "#====================================================================================\n",
    "# restore grid\n",
    "#temp = np.load(\"../SDSS_DR14_qso.npz\", allow_pickle=True)\n",
    "#mjd_g = temp[\"mjd_g\"]\n",
    "#g_array = temp[\"g_array\"]\n",
    "\n",
    "temp = np.load(\"../SDSS_DR14_qso_mock_normal_dense.npz\", allow_pickle=True)\n",
    "mjd_g = temp[\"t_array\"]\n",
    "g_array = temp[\"light_curve\"]\n",
    "\n",
    "\n",
    "#====================================================================================\n",
    "# initiate result arrays\n",
    "power_array = []\n",
    "\n",
    "# loop over all objects\n",
    "for i in range(g_array.shape[0]):\n",
    "    if i % 100 == 0:\n",
    "        print(i)\n",
    "        \n",
    "    frequency, power = LombScargle(mjd_g[i], g_array[i]).autopower(method='fast')\n",
    "    #frequency, power = LombScargle(mjd_g[i], g_array[i]).autopower(method='slow')\n",
    "    \n",
    "    f_power = interpolate.interp1d(frequency, power, bounds_error=False, fill_value=0.)\n",
    "    power_array.append(f_power(frequency_interp))\n",
    "\n",
    "#-------------------------------------------------------------------------------------\n",
    "# convert to numpy array\n",
    "power_array = np.array(power_array)\n",
    "\n",
    "# sum up power\n",
    "power_added = np.zeros((power_array.shape[0],12))\n",
    "for j in range(power_array.shape[0]):\n",
    "    for i in range(12):\n",
    "        power_added[j,i] = np.sum(power_array[j,i*100:(i+1)*100])\n",
    "        \n",
    "# save results\n",
    "np.savez(\"../g_lomb_scargle_normal_dense.npz\",\\\n",
    "         frequency_interp = frequency_interp,\\\n",
    "         power_array = power_array,\\\n",
    "         power_added = power_added)\n"
   ]
  },
  {
   "cell_type": "code",
   "execution_count": 7,
   "metadata": {},
   "outputs": [
    {
     "data": {
      "text/plain": [
       "[<matplotlib.lines.Line2D at 0xd308929d0>]"
      ]
     },
     "execution_count": 7,
     "metadata": {},
     "output_type": "execute_result"
    },
    {
     "data": {
      "image/png": "[encoded data removed]",
      "text/plain": [
       "<Figure size 648x540 with 1 Axes>"
      ]
     },
     "metadata": {
      "needs_background": "light"
     },
     "output_type": "display_data"
    }
   ],
   "source": [
    "temp = np.load(\"../g_lomb_scargle_normal_dense.npz\")\n",
    "frequency_interp = temp[\"frequency_interp\"]\n",
    "power_array = temp[\"power_array\"]\n",
    "power_added = temp[\"power_added\"]\n",
    "\n",
    "plt.plot(frequency_interp, power_array[0,:])\n",
    "#plt.plot(frequency_interp[::100][:-1], power_added[0,:])\n",
    "#for i in range(1000):\n",
    "#    plt.plot(frequency_interp[::100][:-1], power_added[i,:], color=cb2[0], alpha=0.01)\n",
    "\n",
    "#------------------------------------------------------------------------------------------\n",
    "# temp = np.load(\"../g_lomb_scargle_validation.npz\")\n",
    "# frequency_interp = temp[\"frequency_interp\"]\n",
    "# power_array = temp[\"power_array\"]\n",
    "# power_added = temp[\"power_added\"]\n",
    "\n",
    "# for i in range(1000):\n",
    "#     plt.plot(frequency_interp[::100][:-1], power_added[i,:], color=cb2[1], alpha=0.1)\n"
   ]
  },
  {
   "cell_type": "markdown",
   "metadata": {},
   "source": [
    "> Check mock SDSS qso."
   ]
  },
  {
   "cell_type": "code",
   "execution_count": null,
   "metadata": {},
   "outputs": [],
   "source": [
    "# restore grid\n",
    "temp = np.load(\"../SDSS_DR14_qso_mock.npz\", allow_pickle=True)\n",
    "mjd_g = temp[\"t_array\"]\n",
    "g_array = temp[\"light_curve\"]\n",
    "\n",
    "ind_choose = 90\n",
    "print(mjd_g[ind_choose].size)\n",
    "plt.scatter(mjd_g[ind_choose],g_array[ind_choose])"
   ]
  },
  {
   "cell_type": "code",
   "execution_count": null,
   "metadata": {},
   "outputs": [],
   "source": []
  }
 ],
 "metadata": {
  "kernelspec": {
   "display_name": "Python 3",
   "language": "python",
   "name": "python3"
  },
  "language_info": {
   "codemirror_mode": {
    "name": "ipython",
    "version": 3
   },
   "file_extension": ".py",
   "mimetype": "text/x-python",
   "name": "python",
   "nbconvert_exporter": "python",
   "pygments_lexer": "ipython3",
   "version": "3.7.4"
  }
 },
 "nbformat": 4,
 "nbformat_minor": 2
}
