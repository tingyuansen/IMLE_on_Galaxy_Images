{
 "cells": [
  {
   "cell_type": "code",
   "execution_count": 1,
   "metadata": {},
   "outputs": [],
   "source": [
    "%matplotlib inline\n",
    "\n",
    "# import packages\n",
    "import numpy as np\n",
    "import time\n",
    "import pandas as pd\n",
    "\n",
    "import matplotlib\n",
    "import matplotlib.pyplot as plt\n",
    "import matplotlib.colors as colors\n",
    "import matplotlib.cm as cm\n",
    "from matplotlib import gridspec\n",
    "\n",
    "import torch\n",
    "from torch.nn import Linear, LeakyReLU, MSELoss, Sequential\n",
    "from torch.optim import Adam\n",
    "\n",
    "from kymatio import Scattering1D\n"
   ]
  },
  {
   "cell_type": "code",
   "execution_count": 2,
   "metadata": {},
   "outputs": [],
   "source": [
    "# define plot properties\n",
    "from cycler import cycler\n",
    "import matplotlib.cm as cm\n",
    "\n",
    "from matplotlib import rcParams\n",
    "from matplotlib import rc\n",
    "from mpl_toolkits.axes_grid1 import make_axes_locatable\n",
    "\n",
    "def rgb(r,g,b):\n",
    "    return (float(r)/256.,float(g)/256.,float(b)/256.)\n",
    "\n",
    "cb2 = [rgb(31,120,180), rgb(255,127,0), rgb(51,160,44), rgb(227,26,28), \\\n",
    "       rgb(166,206,227), rgb(253,191,111), rgb(178,223,138), rgb(251,154,153)]\n",
    "\n",
    "rcParams['figure.figsize'] = (9,7.5)\n",
    "#rcParams['figure.dpi'] = 300\n",
    "\n",
    "rcParams['lines.linewidth'] = 1\n",
    "\n",
    "rcParams['axes.prop_cycle'] = cycler('color', cb2)\n",
    "rcParams['axes.facecolor'] = 'white'\n",
    "rcParams['axes.grid'] = False\n",
    "\n",
    "rcParams['patch.facecolor'] = cb2[0]\n",
    "rcParams['patch.edgecolor'] = 'white'\n",
    "\n",
    "rcParams['font.size'] = 23\n"
   ]
  },
  {
   "cell_type": "markdown",
   "metadata": {},
   "source": [
    "> Calculate scattering coefficients."
   ]
  },
  {
   "cell_type": "code",
   "execution_count": null,
   "metadata": {},
   "outputs": [],
   "source": [
    "# import packages\n",
    "from kymatio import Scattering1D\n",
    "import kymatio\n",
    "\n",
    "import torch.nn as nn\n",
    "import torch.optim\n",
    "import torch\n",
    "import torch.utils.data as utils\n",
    "\n",
    "import time\n",
    "import sys\n",
    "\n",
    "import numpy as np\n",
    "\n",
    "\n",
    "#=========================================================================================================\n",
    "# load light curves\n",
    "real_spec = np.load(\"../light_curve.npy\")[:10,:]\n",
    "print(real_spec.shape)\n",
    "\n",
    "### change the amplitude\n",
    "#real_spec = real_spec*2.\n",
    "\n",
    "## mix two modes\n",
    "#real_spec = (real_spec[:,:] + real_spec[::-1,:])/2.\n",
    "\n",
    "\n",
    "#================================================================================================\n",
    "# define wavelet scattering hyperparameters\n",
    "J = 6\n",
    "Q = 8\n",
    "T = real_spec.shape[1]\n",
    "\n",
    "# convert into torch variable\n",
    "x = torch.from_numpy(real_spec[:,:T]).type(torch.FloatTensor)\n",
    "print(x.shape)\n",
    "\n",
    "# define wavelet scattering\n",
    "scattering = Scattering1D(J, T, Q)\n",
    "\n",
    "#================================================================================================\n",
    "# perform wavelet scattering\n",
    "Sx_all = scattering.forward(x)\n",
    "\n",
    "# calculate invariate representation\n",
    "Sx_all = torch.mean(Sx_all, dim=-1)\n",
    "\n",
    "# normalize wrt to the first coefficient\n",
    "for i in range(Sx_all.shape[0]):\n",
    "    Sx_all[i,:] = Sx_all[i,:]/np.abs(Sx_all[i,0])\n",
    "    \n",
    "# take log to normalize the coefficient better\n",
    "Sx_all = torch.log10(Sx_all[:,1:])\n",
    "print(Sx_all.shape)"
   ]
  },
  {
   "cell_type": "code",
   "execution_count": null,
   "metadata": {},
   "outputs": [],
   "source": [
    "Sx_all_1 = np.copy(Sx_all)"
   ]
  },
  {
   "cell_type": "code",
   "execution_count": null,
   "metadata": {},
   "outputs": [],
   "source": [
    "Sx_all = Sx_all.numpy()"
   ]
  },
  {
   "cell_type": "code",
   "execution_count": null,
   "metadata": {},
   "outputs": [],
   "source": [
    "print(Sx_all_1[0,:])\n",
    "plt.plot(Sx_all_1[0,:])\n",
    "plt.plot(Sx_all[0,:])"
   ]
  },
  {
   "cell_type": "markdown",
   "metadata": {},
   "source": [
    "> Check wavelet scattering coefficients."
   ]
  },
  {
   "cell_type": "code",
   "execution_count": null,
   "metadata": {},
   "outputs": [],
   "source": [
    "# load scattering coefficients\n",
    "Sx = np.load(\"../Sx_all.npy\")\n",
    "plt.hist(Sx.ravel(), bins=100);"
   ]
  },
  {
   "cell_type": "markdown",
   "metadata": {},
   "source": [
    "> Sample log probablity."
   ]
  },
  {
   "cell_type": "code",
   "execution_count": 32,
   "metadata": {},
   "outputs": [
    {
     "name": "stdout",
     "output_type": "stream",
     "text": [
      "[30.107178 36.704063 33.147377 36.402954 32.515434 39.343636 29.222824\n",
      " 35.167194 34.75307  39.529556 31.599325 30.80701  27.345297 33.293987\n",
      " 31.943016 27.687817 32.806904 38.842617 30.641472 27.938808 34.74637\n",
      " 31.601967 32.706665 34.45374  28.242794 34.179653 36.45692  26.107077\n",
      " 28.85868  33.91777  42.457043 25.147446 32.513805 27.65657  36.88633\n",
      " 31.031708 37.389114 37.579277 34.760235 36.051933 42.194817 29.834948\n",
      " 26.392136 29.999184 28.725159 29.97554  32.154114 29.39657  37.72235\n",
      " 33.84054  38.67702  43.090775 24.178604 40.257313 32.101154 34.41093\n",
      " 32.4885   37.285416 39.433712 40.63607  34.51213  30.954823 31.15995\n",
      " 31.89953  32.67565  40.666286 29.8652   36.834595 33.189    34.064537\n",
      " 36.029728 33.745674 33.681923 39.749516 36.196583 31.717155 28.765564\n",
      " 36.920944 36.341278 34.7885   38.401535 37.635155 27.989506 30.550808\n",
      " 38.36822  31.993858 33.343864 31.92726  39.81863  29.90332  36.68131\n",
      " 31.882322 36.42339  32.347862 29.683908 33.156433 32.456272 26.91914\n",
      " 36.267666 29.645224 40.13346  28.398493 38.512066 33.33766  34.713585\n",
      " 29.794441 30.305511 38.205654 30.770958 38.88308  40.56729  38.79672\n",
      " 33.88205  27.739208 39.85923  38.14021  33.634148 34.470352 38.058994\n",
      " 34.712505 36.346237 39.1529   28.771898 38.24596  30.723576 29.25643\n",
      " 33.49111  33.909298 32.621933 37.66973  36.578262 30.275173 31.640837\n",
      " 32.65245  34.08603  28.523466 39.806133 34.463963 31.561407 33.371506\n",
      " 32.13087  26.72248  36.676712 36.062485 31.777912 34.272057 35.540283\n",
      " 30.446712 31.800419 29.619787 28.13865  31.885258 33.579468 29.352657\n",
      " 32.429886 23.678946 38.220665 29.92974  36.22178  35.417397 39.625328\n",
      " 35.068268 30.299976 37.23996  28.700626 32.192287 36.496223 27.916077\n",
      " 37.161835 36.202408 36.921066 34.286194 34.107037 29.648848 29.55323\n",
      " 31.32395  34.75922  33.982456 33.26477  39.074932 30.3451   28.72691\n",
      " 32.98521  32.541893 28.422241 36.044403 36.125313 33.482132 32.056255\n",
      " 43.75567  29.204796 34.007458 41.264202 28.134666 34.81221  35.54985\n",
      " 36.416943 31.175484 35.466568 33.636486 31.916275 38.481358 30.237734\n",
      " 33.710052 24.275253 29.978687 38.624268 29.159973 36.44004  39.882515\n",
      " 34.822823 36.844666 36.39937  34.01897  33.819405 22.66621  37.940712\n",
      " 31.090744 33.698997 34.149097 36.21788  37.716496 36.358414 29.06941\n",
      " 29.580597 31.119415 34.160988 39.74131  38.567524 27.182701 38.68116\n",
      " 29.76961  35.403267 32.645443 30.107979 30.525196 27.947454 36.735504\n",
      " 28.245262 37.565437 31.428114 41.359703 34.02123  37.72691  38.60234\n",
      " 33.202015 28.222107 32.184597 34.597298 34.202644 29.343485 35.07425\n",
      " 32.930473 42.23331  29.655643 38.876587 36.20471  30.26336  38.417343\n",
      " 31.118881 35.107056 39.957085 36.41249  31.172325 33.253498 32.636063\n",
      " 29.737066 32.22625  28.795021 34.29344  28.761032 38.70911  29.965038\n",
      " 30.822172 30.367645 36.8181   30.817554 39.360332 38.00077  31.710405\n",
      " 30.924768 31.702463 34.1156   26.04061  35.58002  35.05165  27.079796\n",
      " 35.12619  37.365334 40.20476  35.077156 40.601704 36.16426  32.337868\n",
      " 36.25269  35.295242 35.48366  32.087807 36.056694 41.177593 39.08107\n",
      " 33.80131  43.775616 35.419    40.27093  30.62424  28.92435  30.95574\n",
      " 39.81988  34.99538  40.990906 34.3922   36.850464 33.32881  40.171562\n",
      " 34.420418 42.385063 27.921667 26.917294 30.178282 32.17182  30.491686\n",
      " 40.35152  30.97822  42.38503  38.89465  36.062943 37.346176 32.824833\n",
      " 29.437061 36.46952  35.329422 35.92309  34.05079  31.999228 30.478437\n",
      " 37.345993 25.422085 33.081413 30.55719  27.95816  31.348907 34.331444\n",
      " 39.246864 29.162975 31.953808 31.926266 33.722324 29.261477 32.423355\n",
      " 37.440865 32.99038  33.566673 33.753    32.409267 34.014988 32.90069\n",
      " 36.301094 34.270348 24.56684  27.41524  30.623062 42.948235 27.662449\n",
      " 26.276821 36.899525 33.08745  36.260742 28.79659  39.9037   33.356876\n",
      " 34.885143 36.83026  39.23797  27.732615 42.04431  30.050323 35.646202\n",
      " 27.070087 25.382126 36.786175 34.0946   21.475206 38.30647  30.679573\n",
      " 32.850372 35.716473 32.954243 34.153893 29.263996 28.549511 36.534912\n",
      " 33.418076 34.1941   33.897655 33.096527 36.336414 38.989815 31.493576\n",
      " 30.477364 33.85868  35.486526 32.24021  35.411507 32.145096 29.411322\n",
      " 38.540596 35.40798  27.020628 42.50055  35.724213 36.12032  30.457228\n",
      " 33.631325 29.306246 34.638657 31.584026 27.339764 25.88911  39.037754\n",
      " 30.894337 26.99916  29.807125 30.61421  26.841814 38.036285 34.409565\n",
      " 43.349976 39.591652 31.611675 34.2544   36.92361  31.66211  33.738056\n",
      " 36.536964 34.71254  29.722334 29.699314 33.026154 34.829006 23.902725\n",
      " 35.29943  38.700127 27.014147 27.113874 35.869644 25.209167 33.55988\n",
      " 32.424973 27.148598 34.624542 40.11213  27.958977 35.160973 33.691185\n",
      " 31.843586 31.584717 33.86833  33.47638  26.649136 31.698406 32.710106\n",
      " 32.982685 39.89607  28.864733 35.01055  36.127937 41.407207 36.797394\n",
      " 38.17741  30.929657 36.854385 38.20134  34.488354 37.39467  38.95559\n",
      " 33.43879  27.809052 40.17901  37.219193 36.7911   34.704617 33.795784\n",
      " 27.670553 32.183846 31.726795 32.53136  34.42182  41.733543 34.82669\n",
      " 27.723896 29.37889  30.40761  29.14905  37.95294  34.069885 42.556835\n",
      " 32.292908 38.540268 36.614494 30.52943  31.848442 28.86554  32.091866\n",
      " 39.696472 36.00333  39.878223 35.141945 29.370647 37.84226  41.257187\n",
      " 30.534912 32.312355 28.578575 37.015907 39.18032  25.766611 35.421978\n",
      " 31.993814 33.062733 38.103554 39.64995  35.719322 35.061653 34.102753\n",
      " 34.00418  29.16597  25.445295 37.651726 36.221516 37.26626  26.983204\n",
      " 32.075813 30.66651  24.469482 29.53331  32.99626  33.57254  37.009583\n",
      " 25.616238 38.31846  42.293976 31.924728 36.551517 36.98911  37.23308\n",
      " 28.52483  32.19834  32.0551   29.674242 39.714005 33.96907  34.233803\n",
      " 28.058643 36.220024 38.483616 43.413742 35.957718 39.649067 36.367466\n",
      " 28.71464  28.37724  37.153915 37.306366 33.118935 41.2924   27.638947\n",
      " 33.677643 34.203163 35.763153 35.907757 35.90577  32.950134 39.17569\n",
      " 30.859436 30.740316 31.970303 36.36332  30.626488 34.503513 40.305923\n",
      " 28.447405 33.67351  40.438583 31.134407 28.793783 25.815084 42.2653\n",
      " 33.41929  32.43288  41.466175 35.36051  32.587463 35.98357  35.734406\n",
      " 41.781914 35.62931  34.79998  33.533882 32.73214  33.436974 29.62454\n",
      " 32.595604 32.161743 39.229187 32.59143  29.656849 40.167603 34.21682\n",
      " 33.54907  29.381548 37.558624 36.581535 26.550735 35.549026 30.173052\n",
      " 35.939064 40.3804   31.557981 26.318272 32.150948 26.815088 39.683243\n",
      " 42.618237 39.63028  41.23861  39.331436 38.479942 35.667076 34.3012\n",
      " 29.6102   36.52997  33.58155  29.855846 38.87522  30.480854 42.674484\n",
      " 35.564312 34.245987 36.488487 34.511864 29.358519 40.02401  27.452557\n",
      " 34.553383 39.356724 31.393677 31.914957 32.179733 35.725304 41.441444\n",
      " 30.11255  39.401802 30.166271 36.31756  38.00698  36.707314 31.429049\n",
      " 41.16815  31.714596 41.736214 38.405544 37.65909  35.298786 32.047234\n",
      " 31.4221   34.1164   39.453087 39.231213 29.562893 36.408085 28.626293\n",
      " 33.818512 34.07403  29.345953 32.211178 34.30643  27.170807 37.03757\n",
      " 39.240646 37.96807  37.99935  29.950224 32.73246  39.202755 29.3419\n",
      " 34.662495 32.864822 35.556816 32.169075 28.002523 33.32308  33.486282\n",
      " 37.875183 29.721941 36.984344 36.69197  39.363785 31.263935 36.566525\n",
      " 26.471613 33.61336  30.736423 38.446224 28.900154 35.848984 32.53703\n",
      " 34.089943 34.058277 31.661766 27.838999 35.374878 36.424095 37.274223\n",
      " 33.926502 30.296692 33.23308  39.592205 34.138107 36.841152 35.412727\n",
      " 29.531904 35.23282  31.346897 35.250793 33.31418  30.082933 38.010597\n",
      " 36.196465 38.385853 34.200226 38.244797 31.14125  36.583282 30.251284\n",
      " 38.963207 39.04743  30.39627  22.190815 33.07126  33.617474 34.873085\n",
      " 42.36538  23.520943 30.842289 38.30264  28.87649  32.347206 30.413078\n",
      " 38.325455 33.64323  28.94443  33.551613 38.042053 26.810818 24.271751\n",
      " 34.771    38.0694   40.841618 34.993004 31.193048 34.438164 30.776855\n",
      " 37.943867 28.593405 41.88184  39.665382 30.240004 31.624834 29.453798\n",
      " 29.806973 33.81147  35.20804  35.61521  36.946075 24.2353   34.233673\n",
      " 35.308456 30.93175  35.451683 30.516191 40.14618  30.09834  31.241993\n",
      " 27.594995 24.902567 35.907387 32.81009  29.44888  38.84545  35.989967\n",
      " 35.92475  35.029316 32.00614  34.95704  31.450645 30.021584 29.839758\n",
      " 34.990234 32.899956 34.76968  36.77612  33.211746 35.34803  28.506136\n",
      " 36.90201  32.853516 32.777596 32.35247  31.224342 36.85048  29.330559\n",
      " 32.024208 30.088583 28.554329 35.88686  33.283363 29.836552 32.48452\n",
      " 36.234238 30.463572 34.552235 33.721127 42.8274   37.258705 26.702509\n",
      " 34.076187 29.400043 38.039104 38.01142  39.55042  27.294327 27.966444\n",
      " 31.28674  39.129864 36.57886  25.459442 40.01992  35.501137 32.01526\n",
      " 38.329033 31.730011 29.992123 30.920094 33.8928   30.776823 37.775364\n",
      " 34.378944 25.198864 30.82678  32.648277 28.559193 30.941923 34.01748\n",
      " 36.071754 36.46138  38.556107 29.495014 27.521898 33.464695 39.09781\n",
      " 32.87259  40.763702 33.232346 35.18206  30.810736 28.747465 35.275826\n",
      " 39.049385 38.79673  30.643486 32.8873   35.400757 32.438404 22.70772\n",
      " 31.530151 36.742294 34.72358  28.16372  35.271507 36.785572 36.598957\n",
      " 36.643898 37.965008 33.52655  34.87747  30.205896 31.921537 31.81116\n",
      " 41.571365 32.140022 36.42885  37.374783 33.905155 32.85987  32.447483\n",
      " 40.051407 29.711216 33.223717 37.071945 28.541056 36.25228  41.65669\n",
      " 33.935364 34.263237 31.937675 31.143387 27.360292 33.95041  36.686413\n",
      " 42.208965 30.52613  42.47991  27.144592 30.223026 36.22744  35.334442\n",
      " 35.474525 32.425255 32.36853  29.766071 35.75306  34.681366 30.158545\n",
      " 32.088562 38.27466  40.565723 32.76734  25.085339 38.63356  33.32606\n",
      " 31.912457 38.812725 36.387638 35.527645 34.82455  40.445324 32.37023\n",
      " 39.897873 32.675755 39.56318  28.752048 26.210857 25.260101 28.977669\n",
      " 30.99148  35.47416  42.38647  36.229187 40.38205  32.26486  20.966978\n",
      " 37.5934   33.645153 33.381462 36.706    31.227423 44.761353 30.76104\n",
      " 31.790512 31.216305 30.470856 42.30267  37.963192 33.30843  30.557022\n",
      " 32.438416 30.352322 36.409466 39.489212 35.64727  29.421654 37.108543\n",
      " 32.263046 30.197737 37.61528  27.62512  37.722397 27.713861 27.84703\n",
      " 42.42322  31.001438 33.43911  31.611069 32.414276 35.387268 37.905098\n",
      " 36.605972 37.321148 36.72251  36.011524 37.35167  27.691914 31.651367\n",
      " 38.637486 30.834072 37.84751  35.26337  40.813225 33.81379 ]\n"
     ]
    }
   ],
   "source": [
    "# import packages\n",
    "import numpy as np\n",
    "from astropy.io import fits\n",
    "import os\n",
    "\n",
    "import torch\n",
    "from torch import nn\n",
    "from torch import distributions\n",
    "from torch.nn.parameter import Parameter\n",
    "from torch.autograd import Variable\n",
    "\n",
    "os.environ['KMP_DUPLICATE_LIB_OK']='True'\n",
    "\n",
    "\n",
    "#========================================================================================================\n",
    "# read scattering coefficents\n",
    "#y_tr = np.load(\"../Sx_all_mixed.npy\")\n",
    "\n",
    "# restore Lomb Scargle coefficients\n",
    "temp = np.load(\"../g_lomb_scargle.npz\")\n",
    "y_tr = temp[\"power_array\"][:,30:40]\n",
    "\n",
    "# convert into torch\n",
    "y_tr = torch.from_numpy(y_tr).type(torch.FloatTensor)\n",
    "\n",
    "\n",
    "#=======================================================================================================\n",
    "# In [2]:\n",
    "# define normalizing flow\n",
    "class RealNVP(nn.Module):\n",
    "    def __init__(self, nets, nett, mask, prior):\n",
    "        super(RealNVP, self).__init__()\n",
    "\n",
    "        self.prior = prior\n",
    "        self.mask = nn.Parameter(mask, requires_grad=False)\n",
    "        self.t = torch.nn.ModuleList([nett() for _ in range(len(masks))])\n",
    "        self.s = torch.nn.ModuleList([nets() for _ in range(len(masks))])\n",
    "\n",
    "    def g(self, z):\n",
    "        x = z\n",
    "        for i in range(len(self.t)):\n",
    "            x_ = x*self.mask[i]\n",
    "            s = self.s[i](x_)*(1 - self.mask[i])\n",
    "            t = self.t[i](x_)*(1 - self.mask[i])\n",
    "            x = x_ + (1 - self.mask[i]) * (x * torch.exp(s) + t)\n",
    "        return x\n",
    "\n",
    "    def f(self, x):\n",
    "        log_det_J, z = x.new_zeros(x.shape[0]), x\n",
    "        for i in reversed(range(len(self.t))):\n",
    "            z_ = self.mask[i] * z\n",
    "            s = self.s[i](z_) * (1-self.mask[i])\n",
    "            t = self.t[i](z_) * (1-self.mask[i])\n",
    "            z = (1 - self.mask[i]) * (z - t) * torch.exp(-s) + z_\n",
    "            log_det_J -= s.sum(dim=1)\n",
    "        return z, log_det_J\n",
    "\n",
    "    def log_prob(self,x):\n",
    "        z, logp = self.f(x)\n",
    "        return self.prior.log_prob(z) + logp\n",
    "\n",
    "    def sample(self, z):\n",
    "        x = self.g(z)\n",
    "        return x\n",
    "    \n",
    "    \n",
    "#==================================================================================\n",
    "# restore models\n",
    "flow = torch.load(\"../flow_final_g_short.pt\", map_location=lambda storage, loc: storage) # load in cpu\n",
    "flow.eval()\n",
    "\n",
    "#-------------------------------------------------------------------------------------------------------\n",
    "# sample results\n",
    "log_prob_x = flow.log_prob(y_tr).detach().numpy()\n",
    "\n",
    "# save results\n",
    "np.savez(\"../real_nvp_results_light_curve_normal.npz\",\\\n",
    "         log_prob_x = log_prob_x)\n",
    "\n",
    "print(log_prob_x)"
   ]
  },
  {
   "cell_type": "code",
   "execution_count": 34,
   "metadata": {},
   "outputs": [
    {
     "data": {
      "text/plain": [
       "Text(0, 0.5, '# light curves')"
      ]
     },
     "execution_count": 34,
     "metadata": {},
     "output_type": "execute_result"
    },
    {
     "data": {
      "image/png": "[encoded data removed]",
      "text/plain": [
       "<Figure size 648x540 with 1 Axes>"
      ]
     },
     "metadata": {
      "needs_background": "light"
     },
     "output_type": "display_data"
    }
   ],
   "source": [
    "temp = np.load(\"../real_nvp_results_light_curve_validation.npz\")\n",
    "plt.hist(temp[\"log_prob_x\"], bins=50, label=\"mixed\", alpha=0.5, range=[0,50]);\n",
    "\n",
    "temp = np.load(\"../real_nvp_results_light_curve_normal.npz\")\n",
    "plt.hist(temp[\"log_prob_x\"], bins=50, label=\"normal\", alpha=0.5, range=[0,50]);\n",
    "\n",
    "plt.legend()\n",
    "\n",
    "plt.xlabel(\"log probability\")\n",
    "plt.ylabel(\"# light curves\")"
   ]
  },
  {
   "cell_type": "markdown",
   "metadata": {},
   "source": [
    "## Gaussian Processes inputation.\n",
    "\n",
    "> Run with GPy. First a simple example.\n"
   ]
  },
  {
   "cell_type": "code",
   "execution_count": null,
   "metadata": {},
   "outputs": [],
   "source": [
    "import numpy as np\n",
    "import GPy\n",
    "\n",
    "# make mock data\n",
    "X = np.random.uniform(-3.,3.,(20,1))\n",
    "Y = np.sin(X) + np.random.randn(20,1)*0.05\n",
    "\n",
    "# define kernel\n",
    "kernel = GPy.kern.RBF(input_dim=1, variance=1., lengthscale=1.)\n",
    "m = GPy.models.GPRegression(X,Y,kernel)\n",
    "\n",
    "# optimize\n",
    "m.optimize(messages=True)\n",
    "m.optimize_restarts(num_restarts = 10)\n",
    "\n",
    "# display results\n",
    "fig = m.plot(plot_density=True)\n",
    "GPy.plotting.show(fig, filename='basic_gp_regression_density_notebook_optimized')"
   ]
  },
  {
   "cell_type": "markdown",
   "metadata": {},
   "source": [
    "> Make prediction with the models."
   ]
  },
  {
   "cell_type": "code",
   "execution_count": null,
   "metadata": {},
   "outputs": [],
   "source": [
    "plt.scatter(X,Y)\n",
    "\n",
    "X_array = np.linspace(-4,4,100)\n",
    "X_array = X_array.reshape(X_array.size,1)\n",
    "\n",
    "Y_predict = np.array(m.predict(X_array))[0,:,:]\n",
    "plt.plot(X_array,Y_predict)"
   ]
  },
  {
   "cell_type": "markdown",
   "metadata": {},
   "source": [
    "> Try with real light curve."
   ]
  },
  {
   "cell_type": "code",
   "execution_count": null,
   "metadata": {},
   "outputs": [],
   "source": [
    "import GPy\n",
    "\n",
    "# load light curve\n",
    "temp = np.load(\"../light_curve.npz\")\n",
    "light_curve = temp[\"light_curve\"]\n",
    "t_array = temp[\"t_array\"]\n",
    "\n",
    "# extract a single light cure\n",
    "X = t_array[0,:]\n",
    "X = X.reshape(X.size,-1)\n",
    "Y = light_curve[0,:]\n",
    "Y = Y.reshape(Y.size,-1)\n",
    "\n",
    "# define kernel\n",
    "kernel = GPy.kern.RBF(input_dim=1, variance=1., lengthscale=1.)\n",
    "m = GPy.models.GPRegression(X[::10],Y[::10],kernel)\n",
    "\n",
    "# optimize\n",
    "m.optimize(messages=True)\n",
    "m.optimize_restarts(num_restarts = 10)\n",
    "\n",
    "# display results\n",
    "fig = m.plot(plot_density=True)\n",
    "GPy.plotting.show(fig, filename='basic_gp_regression_density_notebook_optimized')"
   ]
  },
  {
   "cell_type": "code",
   "execution_count": null,
   "metadata": {},
   "outputs": [],
   "source": [
    "plt.plot(t_array[0,:],light_curve[0,:], color=cb2[1])\n",
    "\n",
    "X_array = t_array[0,:]\n",
    "X_array = X_array.reshape(X_array.size,1)\n",
    "\n",
    "Y_predict = np.array(m.predict(X_array))[0,:,0]\n",
    "Y_std = np.sqrt(np.array(m.predict(X_array))[1,:,0])\n",
    "\n",
    "plt.plot(X_array[:,0],Y_predict, color=\"black\")\n",
    "plt.fill_between(X_array[:,0], Y_predict-Y_std, Y_predict+Y_std, color=cb2[0])"
   ]
  },
  {
   "cell_type": "markdown",
   "metadata": {},
   "source": [
    "## SDSS DR14 QSO.\n",
    "\n",
    "> Read data files.\n"
   ]
  },
  {
   "cell_type": "code",
   "execution_count": null,
   "metadata": {},
   "outputs": [],
   "source": [
    "## all flies\n",
    "import os\n",
    "list_files = os.listdir(\"../qso\")\n",
    "\n",
    "# initiate array\n",
    "mjd_g = []\n",
    "g_array = []\n",
    "mjd_r = []\n",
    "r_array = []\n",
    "list_files_store = []\n",
    "\n",
    "#-------------------------------------------------------------------------------------\n",
    "# loop over all files\n",
    "for i in range(len(list_files)):\n",
    "        \n",
    "    try:\n",
    "        # read data\n",
    "        data = np.loadtxt(\"../qso/\" + list_files[i])\n",
    "        mjd_g_temp = data[:,2]\n",
    "        g_temp = data[:,3]\n",
    "        mjd_r_temp = data[:,0]\n",
    "        r_temp = data[:,1]\n",
    "    \n",
    "        # cull empty entries and sort by time\n",
    "        choose = mjd_g_temp > 10.\n",
    "        mjd_g_temp = mjd_g_temp[choose]\n",
    "        g_temp = g_temp[choose]\n",
    "        choose = np.argsort(mjd_g_temp)\n",
    "        mjd_g_temp = mjd_g_temp[choose]\n",
    "        g_temp = g_temp[choose]\n",
    "    \n",
    "        choose = mjd_r_temp > 10.\n",
    "        mjd_r_temp = mjd_r_temp[choose]\n",
    "        r_temp = r_temp[choose]\n",
    "        choose = np.argsort(mjd_r_temp)\n",
    "        mjd_r_temp = mjd_r_temp[choose]\n",
    "        r_temp = r_temp[choose]\n",
    "\n",
    "        # record results\n",
    "        mjd_g.append(mjd_g_temp)\n",
    "        g_array.append(g_temp)\n",
    "        mjd_r.append(mjd_r_temp)\n",
    "        r_array.append(r_temp)\n",
    "        list_files_store.append(list_files[i])\n",
    "        \n",
    "    except:\n",
    "        print(i)\n",
    "\n",
    "# convert to numpy array\n",
    "mjd_g = np.array(mjd_g)\n",
    "g_array = np.array(g_array)\n",
    "mjd_r = np.array(mjd_r)\n",
    "r_array = np.array(r_array)\n",
    "list_files = np.array(list_files_store)\n",
    "\n",
    "#-------------------------------------------------------------------------------------\n",
    "# save results\n",
    "np.savez(\"../SDSS_DR14_qso.npz\",\\\n",
    "         mjd_g = mjd_g,\\\n",
    "         g_array = g_array,\\\n",
    "         mjd_r = mjd_r,\\\n",
    "         r_array = r_array,\\\n",
    "         list_files = list_files)\n"
   ]
  },
  {
   "cell_type": "markdown",
   "metadata": {},
   "source": [
    "> Investigate the time stamp range."
   ]
  },
  {
   "cell_type": "code",
   "execution_count": null,
   "metadata": {},
   "outputs": [],
   "source": [
    "# time step range\n",
    "mjd_g_range = np.array([mjd_g[i][-1]-mjd_g[i][0] for i in range(mjd_g.size)])\n",
    "mjd_r_range = np.array([mjd_r[i][-1]-mjd_r[i][0] for i in range(mjd_g.size)])\n",
    "\n",
    "plt.hist(mjd_g_range, bins=100, range=[400,500]);\n",
    "plt.hist(mjd_r_range, bins=100, range=[400,500]);\n"
   ]
  },
  {
   "cell_type": "code",
   "execution_count": null,
   "metadata": {},
   "outputs": [],
   "source": [
    "# time step recorded\n",
    "mjd_g_range = np.array([len(mjd_g[i]) for i in range(mjd_g.size)])\n",
    "mjd_r_range = np.array([len(mjd_r[i]) for i in range(mjd_g.size)])\n",
    "\n",
    "plt.hist(mjd_g_range, bins=100);\n",
    "plt.hist(mjd_r_range, bins=100);\n",
    "\n",
    "#print(np.where(mjd_g_range > 200))"
   ]
  },
  {
   "cell_type": "markdown",
   "metadata": {},
   "source": [
    "> Try Gaussian Processes on light curve."
   ]
  },
  {
   "cell_type": "code",
   "execution_count": 3,
   "metadata": {},
   "outputs": [
    {
     "data": {
      "application/vnd.jupyter.widget-view+json": {
       "model_id": "8272e6b2baf141fda6dd176ae5de8e6e",
       "version_major": 2,
       "version_minor": 0
      },
      "text/plain": [
       "HBox(children=(VBox(children=(IntProgress(value=0, max=1000), HTML(value=''))), Box(children=(HTML(value=''),)…"
      ]
     },
     "metadata": {},
     "output_type": "display_data"
    },
    {
     "name": "stdout",
     "output_type": "stream",
     "text": [
      "Optimization restart 1/10, f = -127.8197878504002\n",
      "Optimization restart 2/10, f = -137.64647390539938\n",
      "Optimization restart 3/10, f = -137.64650388139398\n",
      "Optimization restart 4/10, f = -127.81978785039067\n",
      "Optimization restart 5/10, f = -127.8199711860974\n",
      "Optimization restart 6/10, f = -137.6464733175497\n",
      "Optimization restart 7/10, f = -137.64723507396945\n",
      "Optimization restart 8/10, f = -127.8197878503747\n",
      "Optimization restart 9/10, f = -127.81978785037532\n",
      "Optimization restart 10/10, f = -127.81978788599442\n",
      "  \u001b[1msum.               \u001b[0;0m  |                   value  |  constraints  |  priors\n",
      "  \u001b[1mMat32.variance     \u001b[0;0m  |    2.43286809756975e-05  |      +ve      |        \n",
      "  \u001b[1mMat32.lengthscale  \u001b[0;0m  |      30.445944917314602  |      +ve      |        \n",
      "  \u001b[1mMat32_1.variance   \u001b[0;0m  |      0.7222458079935928  |      +ve      |        \n",
      "  \u001b[1mMat32_1.lengthscale\u001b[0;0m  |       87.91976591574966  |      +ve      |        \n",
      "  \u001b[1mMat32_2.variance   \u001b[0;0m  |  0.00024154735798810836  |      +ve      |        \n",
      "  \u001b[1mMat32_2.lengthscale\u001b[0;0m  |     0.08365294083673869  |      +ve      |        \n"
     ]
    },
    {
     "ename": "AttributeError",
     "evalue": "'dict' object has no attribute 'figure'",
     "output_type": "error",
     "traceback": [
      "\u001b[0;31m---------------------------------------------------------------------------\u001b[0m",
      "\u001b[0;31mAttributeError\u001b[0m                            Traceback (most recent call last)",
      "\u001b[0;32m<ipython-input-3-e41906c42b91>\u001b[0m in \u001b[0;36m<module>\u001b[0;34m\u001b[0m\n\u001b[1;32m     52\u001b[0m \u001b[0;31m# display results\u001b[0m\u001b[0;34m\u001b[0m\u001b[0;34m\u001b[0m\u001b[0;34m\u001b[0m\u001b[0m\n\u001b[1;32m     53\u001b[0m \u001b[0mfig\u001b[0m \u001b[0;34m=\u001b[0m \u001b[0mm\u001b[0m\u001b[0;34m.\u001b[0m\u001b[0mplot\u001b[0m\u001b[0;34m(\u001b[0m\u001b[0mplot_density\u001b[0m\u001b[0;34m=\u001b[0m\u001b[0;32mTrue\u001b[0m\u001b[0;34m)\u001b[0m\u001b[0;34m\u001b[0m\u001b[0;34m\u001b[0m\u001b[0m\n\u001b[0;32m---> 54\u001b[0;31m \u001b[0mGPy\u001b[0m\u001b[0;34m.\u001b[0m\u001b[0mplotting\u001b[0m\u001b[0;34m.\u001b[0m\u001b[0mshow\u001b[0m\u001b[0;34m(\u001b[0m\u001b[0mfig\u001b[0m\u001b[0;34m,\u001b[0m \u001b[0mfilename\u001b[0m\u001b[0;34m=\u001b[0m\u001b[0;34m'basic_gp_regression_density_notebook_optimized'\u001b[0m\u001b[0;34m)\u001b[0m\u001b[0;34m\u001b[0m\u001b[0;34m\u001b[0m\u001b[0m\n\u001b[0m",
      "\u001b[0;32m~/anaconda3/lib/python3.7/site-packages/GPy/plotting/__init__.py\u001b[0m in \u001b[0;36mshow\u001b[0;34m(figure, **kwargs)\u001b[0m\n\u001b[1;32m    132\u001b[0m     \u001b[0;32mfor\u001b[0m \u001b[0mshowing\u001b[0m\u001b[0;34m/\u001b[0m\u001b[0mdrawing\u001b[0m \u001b[0ma\u001b[0m \u001b[0mfigure\u001b[0m\u001b[0;34m.\u001b[0m\u001b[0;34m\u001b[0m\u001b[0;34m\u001b[0m\u001b[0m\n\u001b[1;32m    133\u001b[0m     \"\"\"\n\u001b[0;32m--> 134\u001b[0;31m     \u001b[0;32mreturn\u001b[0m \u001b[0mplotting_library\u001b[0m\u001b[0;34m(\u001b[0m\u001b[0;34m)\u001b[0m\u001b[0;34m.\u001b[0m\u001b[0mshow_canvas\u001b[0m\u001b[0;34m(\u001b[0m\u001b[0mfigure\u001b[0m\u001b[0;34m,\u001b[0m \u001b[0;34m**\u001b[0m\u001b[0mkwargs\u001b[0m\u001b[0;34m)\u001b[0m\u001b[0;34m\u001b[0m\u001b[0;34m\u001b[0m\u001b[0m\n\u001b[0m\u001b[1;32m    135\u001b[0m \u001b[0;34m\u001b[0m\u001b[0m\n\u001b[1;32m    136\u001b[0m \u001b[0;34m\u001b[0m\u001b[0m\n",
      "\u001b[0;32m~/anaconda3/lib/python3.7/site-packages/GPy/plotting/matplot_dep/plot_definitions.py\u001b[0m in \u001b[0;36mshow_canvas\u001b[0;34m(self, ax, **kwargs)\u001b[0m\n\u001b[1;32m     94\u001b[0m \u001b[0;34m\u001b[0m\u001b[0m\n\u001b[1;32m     95\u001b[0m     \u001b[0;32mdef\u001b[0m \u001b[0mshow_canvas\u001b[0m\u001b[0;34m(\u001b[0m\u001b[0mself\u001b[0m\u001b[0;34m,\u001b[0m \u001b[0max\u001b[0m\u001b[0;34m,\u001b[0m \u001b[0;34m**\u001b[0m\u001b[0mkwargs\u001b[0m\u001b[0;34m)\u001b[0m\u001b[0;34m:\u001b[0m\u001b[0;34m\u001b[0m\u001b[0;34m\u001b[0m\u001b[0m\n\u001b[0;32m---> 96\u001b[0;31m         \u001b[0max\u001b[0m\u001b[0;34m.\u001b[0m\u001b[0mfigure\u001b[0m\u001b[0;34m.\u001b[0m\u001b[0mcanvas\u001b[0m\u001b[0;34m.\u001b[0m\u001b[0mdraw\u001b[0m\u001b[0;34m(\u001b[0m\u001b[0;34m)\u001b[0m\u001b[0;34m\u001b[0m\u001b[0;34m\u001b[0m\u001b[0m\n\u001b[0m\u001b[1;32m     97\u001b[0m         \u001b[0;32mreturn\u001b[0m \u001b[0max\u001b[0m\u001b[0;34m.\u001b[0m\u001b[0mfigure\u001b[0m\u001b[0;34m\u001b[0m\u001b[0;34m\u001b[0m\u001b[0m\n\u001b[1;32m     98\u001b[0m \u001b[0;34m\u001b[0m\u001b[0m\n",
      "\u001b[0;31mAttributeError\u001b[0m: 'dict' object has no attribute 'figure'"
     ]
    },
    {
     "data": {
      "image/png": "[encoded data removed]",
      "text/plain": [
       "<Figure size 648x540 with 1 Axes>"
      ]
     },
     "metadata": {
      "needs_background": "light"
     },
     "output_type": "display_data"
    }
   ],
   "source": [
    "import GPy\n",
    "import numpy as np\n",
    "\n",
    "\n",
    "#==================================================================================\n",
    "### restore mock grid ###\n",
    "temp = np.load(\"../SDSS_DR14_qso_mock.npz\", allow_pickle=True)\n",
    "mjd_g = temp[\"t_array\"]\n",
    "g_array = temp[\"light_curve\"]\n",
    "\n",
    "\n",
    "#==================================================================================\n",
    "# choose one object\n",
    "ind_choose = 0\n",
    "\n",
    "# extract a single light cure\n",
    "X = (mjd_g[ind_choose] - mjd_g[ind_choose][0])\n",
    "X = X.reshape(X.size,-1)\n",
    "Y = g_array[ind_choose]\n",
    "Y = Y.reshape(Y.size,-1)\n",
    "\n",
    "# define kernel\n",
    "k0 = GPy.kern.Matern32(1) \n",
    "k1 = GPy.kern.Matern32(1) \n",
    "k2 = GPy.kern.Matern32(1) \n",
    "\n",
    "kernel = k0 + k1 + k2 \n",
    "m = GPy.models.GPRegression(X, Y, kernel, normalizer=True)\n",
    "#print(m.kern)\n",
    "\n",
    "#-------------------------------------------------------------------------------------\n",
    "# set range parameters\n",
    "# m.kern.Mat32.lengthscale.constrain_bounded(0.1,1)\n",
    "# m.kern.Mat32.variance.constrain_bounded(1e-10,1e-5)\n",
    "\n",
    "# m.kern.Mat32_1.lengthscale.constrain_bounded(1,10)\n",
    "# m.kern.Mat32_1.variance.constrain_bounded(1e-10,1e-5)\n",
    "\n",
    "# m.kern.Mat32_2.lengthscale.constrain_bounded(10,100)\n",
    "# m.kern.Mat32_2.variance.constrain_bounded(1e-10,1.)\n",
    "\n",
    "# Fix the noise variance to known value \n",
    "#m.Gaussian_noise.variance = 1e-3**2\n",
    "#m.Gaussian_noise.variance.fix()\n",
    "\n",
    "# optimize\n",
    "m.optimize(messages=True)\n",
    "m.optimize_restarts(num_restarts = 10)\n",
    "print(m.kern)\n",
    "\n",
    "#-------------------------------------------------------------------------------------\n",
    "# display results\n",
    "fig = m.plot(plot_density=True)\n",
    "GPy.plotting.show(fig, filename='basic_gp_regression_density_notebook_optimized')"
   ]
  },
  {
   "cell_type": "code",
   "execution_count": null,
   "metadata": {},
   "outputs": [],
   "source": [
    "# set grid to interpolate into\n",
    "X_array = np.arange(5120)*0.1\n",
    "X_array = X_array.reshape(X_array.size,1)\n",
    "\n",
    "# make prediction\n",
    "Y_predict = np.array(m.predict(X_array))[0,:,0]\n",
    "Y_std = np.sqrt(np.array(m.predict(X_array))[1,:,0])\n",
    "\n",
    "# original data\n",
    "plt.scatter(X.ravel(), Y.ravel(), color=cb2[1])\n",
    "\n",
    "# prediction\n",
    "plt.plot(X_array[:,0],Y_predict, color=\"black\")\n",
    "plt.fill_between(X_array[:,0], Y_predict-Y_std, Y_predict+Y_std, color=cb2[0], alpha=0.5)"
   ]
  },
  {
   "cell_type": "markdown",
   "metadata": {},
   "source": [
    "> Check time step gaps."
   ]
  },
  {
   "cell_type": "code",
   "execution_count": null,
   "metadata": {},
   "outputs": [],
   "source": [
    "# restore grid\n",
    "temp = np.load(\"../SDSS_DR14_qso.npz\", allow_pickle=True)\n",
    "mjd_g = temp[\"mjd_g\"]\n",
    "mjd_gap = []\n",
    "for i in range(mjd_g.size):\n",
    "    mjd_gap.extend(mjd_g[i][1:]-mjd_g[i][:-1])\n",
    "mjd_gap = np.array(mjd_gap)\n",
    "print(mjd_gap.size)\n",
    "plt.hist(mjd_gap, bins=100, range=[0,0.01])"
   ]
  },
  {
   "cell_type": "markdown",
   "metadata": {},
   "source": [
    "> Gaussian Processes in batch."
   ]
  },
  {
   "cell_type": "code",
   "execution_count": null,
   "metadata": {},
   "outputs": [],
   "source": [
    "# Gaussian Processes package\n",
    "import GPy\n",
    "import time\n",
    "from multiprocessing import Pool\n",
    "import os\n",
    "import numpy as np\n",
    "\n",
    "# set number of threads per CPU\n",
    "os.environ['OMP_NUM_THREADS']='{:d}'.format(1)\n",
    "\n",
    "#-------------------------------------------------------------------------------------\n",
    "# restore grid\n",
    "temp = np.load(\"../SDSS_DR14_qso.npz\", allow_pickle=True)\n",
    "mjd_g = temp[\"mjd_g\"]\n",
    "g_array = temp[\"g_array\"]\n",
    "\n",
    "# set grid to interpolate into\n",
    "X_array = np.arange(5120)*0.1\n",
    "X_array = X_array.reshape(X_array.size,1)\n",
    "\n",
    "#-------------------------------------------------------------------------------------\n",
    "# interpolate with GP\n",
    "def GP_interp(ind_choose):\n",
    "\n",
    "    # extract a single light cure\n",
    "    X = (mjd_g[ind_choose] - mjd_g[ind_choose][0])\n",
    "    X = X.reshape(X.size,-1)\n",
    "    Y = g_array[ind_choose]\n",
    "    Y = Y.reshape(Y.size,-1)\n",
    "\n",
    "    # define kernel\n",
    "    k0 = GPy.kern.Matern32(1) \n",
    "    k1 = GPy.kern.Matern32(1) \n",
    "    k2 = GPy.kern.Matern32(1) \n",
    "    kernel = k0 + k1 + k2 \n",
    "    \n",
    "#-------------------------------------------------------------------------------------\n",
    "    # define regression\n",
    "    m = GPy.models.GPRegression(X, Y, kernel, normalizer=True)\n",
    "\n",
    "    # set range parameters\n",
    "    m.kern.Mat32.lengthscale.constrain_bounded(0.1,1)\n",
    "    m.kern.Mat32.variance.constrain_bounded(1e-10,1e-5)\n",
    "\n",
    "    m.kern.Mat32_1.lengthscale.constrain_bounded(1,10)\n",
    "    m.kern.Mat32_1.variance.constrain_bounded(1e-10,1e-5)\n",
    "\n",
    "    m.kern.Mat32_2.lengthscale.constrain_bounded(10,100)\n",
    "    m.kern.Mat32_2.variance.constrain_bounded(1e-10,1.)\n",
    "\n",
    "    # fix the noise variance to known value \n",
    "    m.Gaussian_noise.variance = 1e-2**2\n",
    "    m.Gaussian_noise.variance.fix()\n",
    "\n",
    "#-------------------------------------------------------------------------------------\n",
    "    # optimize\n",
    "    m.optimize(messages=True)\n",
    "    m.optimize_restarts(num_restarts = 10)\n",
    "\n",
    "    # make prediction\n",
    "    Y_predict = np.array(m.predict(X_array))[0,:,0]\n",
    "    \n",
    "    # return prediction\n",
    "    return Y_predict\n",
    "\n",
    "\n",
    "#=====================================================================================\n",
    "# number of CPU to run in parallel\n",
    "num_CPU = 4\n",
    "pool = Pool(num_CPU)\n",
    "start_time = time.time()\n",
    "Y_predict_array = np.array(pool.map(GP_interp,range(100)))\n",
    "print(time.time()-start_time)\n",
    "    "
   ]
  },
  {
   "cell_type": "markdown",
   "metadata": {},
   "source": [
    "> Plot training loss."
   ]
  },
  {
   "cell_type": "code",
   "execution_count": null,
   "metadata": {},
   "outputs": [],
   "source": [
    "temp = np.load(\"../loss_results.npz\")\n",
    "plt.plot(temp[\"loss_array\"])\n",
    "plt.ylim([-500,0])"
   ]
  },
  {
   "cell_type": "markdown",
   "metadata": {},
   "source": [
    "## Lomb Sargles as representations.\n",
    "\n",
    "> Using Lomb Scargles as a metric.\n",
    "\n",
    "Cannot use the interpolated version, because the Gaussian kernel period will imprint on it."
   ]
  },
  {
   "cell_type": "code",
   "execution_count": 11,
   "metadata": {},
   "outputs": [
    {
     "name": "stdout",
     "output_type": "stream",
     "text": [
      "0\n",
      "100\n",
      "200\n",
      "300\n",
      "400\n",
      "500\n",
      "600\n",
      "700\n",
      "800\n",
      "900\n",
      "1000\n",
      "1100\n",
      "1200\n",
      "1300\n",
      "1400\n",
      "1500\n",
      "1600\n",
      "1700\n",
      "1800\n",
      "1900\n",
      "2000\n",
      "2100\n",
      "2200\n",
      "2300\n",
      "2400\n",
      "2500\n",
      "2600\n",
      "2700\n",
      "2800\n",
      "2900\n",
      "3000\n",
      "3100\n",
      "3200\n",
      "3300\n",
      "3400\n",
      "3500\n",
      "3600\n",
      "3700\n",
      "3800\n"
     ]
    }
   ],
   "source": [
    "from astropy.timeseries import LombScargle\n",
    "from scipy import interpolate\n",
    "\n",
    "# choose a frequency grid to interpolate into\n",
    "frequency_interp = np.arange(121)/120.*0.6\n",
    "\n",
    "\n",
    "#====================================================================================\n",
    "# restore grid\n",
    "#temp = np.load(\"../SDSS_DR14_qso.npz\", allow_pickle=True)\n",
    "#mjd_g = temp[\"mjd_g\"]\n",
    "#g_array = temp[\"g_array\"]\n",
    "\n",
    "temp = np.load(\"../SDSS_DR14_qso_mock_3000.npz\", allow_pickle=True)\n",
    "mjd_g = temp[\"t_array\"]\n",
    "g_array = temp[\"light_curve\"]\n",
    "\n",
    "\n",
    "#====================================================================================\n",
    "# initiate result arrays\n",
    "power_array = []\n",
    "\n",
    "# loop over all objects\n",
    "for i in range(g_array.size):\n",
    "    if i % 100 == 0:\n",
    "        print(i)\n",
    "        \n",
    "    frequency, power = LombScargle(mjd_g[i], g_array[i]).autopower(method='slow')\n",
    "    f_power = interpolate.interp1d(frequency, power, bounds_error=False, fill_value=0.)\n",
    "    power_array.append(f_power(frequency_interp))\n",
    "\n",
    "#-------------------------------------------------------------------------------------\n",
    "# convert to numpy array\n",
    "power_array = np.array(power_array)\n",
    "\n",
    "# save results\n",
    "np.savez(\"../g_lomb_scargle_3000.npz\",\\\n",
    "         frequency_interp = frequency_interp,\\\n",
    "         power_array = power_array)\n"
   ]
  },
  {
   "cell_type": "code",
   "execution_count": 38,
   "metadata": {},
   "outputs": [
    {
     "data": {
      "text/plain": [
       "[<matplotlib.lines.Line2D at 0x1c3d6c1b10>]"
      ]
     },
     "execution_count": 38,
     "metadata": {},
     "output_type": "execute_result"
    },
    {
     "data": {
      "image/png": "[encoded data removed]",
      "text/plain": [
       "<Figure size 648x540 with 1 Axes>"
      ]
     },
     "metadata": {
      "needs_background": "light"
     },
     "output_type": "display_data"
    }
   ],
   "source": [
    "temp = np.load(\"../g_lomb_scargle_3000.npz\")\n",
    "power_array = temp[\"power_array\"]\n",
    "plt.plot(frequency_interp[:50], power_array[0,:50])\n",
    "# for i in range(1000):\n",
    "#     plt.plot(frequency_interp[30:40], power_array[i,30:40], color=cb2[0], alpha=0.1)\n",
    "\n",
    "temp = np.load(\"../g_lomb_scargle.npz\")\n",
    "power_array = temp[\"power_array\"]\n",
    "plt.plot(frequency_interp[:50], power_array[0,:50])\n",
    "# for i in range(1000):\n",
    "#     plt.plot(frequency_interp[30:40], power_array[i,30:40], color=cb2[1], alpha=0.1)"
   ]
  },
  {
   "cell_type": "markdown",
   "metadata": {},
   "source": [
    "> Check mock SDSS qso."
   ]
  },
  {
   "cell_type": "code",
   "execution_count": null,
   "metadata": {},
   "outputs": [],
   "source": [
    "# restore grid\n",
    "temp = np.load(\"../SDSS_DR14_qso_mock.npz\", allow_pickle=True)\n",
    "mjd_g = temp[\"t_array\"]\n",
    "g_array = temp[\"light_curve\"]\n",
    "\n",
    "ind_choose = 90\n",
    "print(mjd_g[ind_choose].size)\n",
    "plt.scatter(mjd_g[ind_choose],g_array[ind_choose])"
   ]
  },
  {
   "cell_type": "code",
   "execution_count": null,
   "metadata": {},
   "outputs": [],
   "source": []
  }
 ],
 "metadata": {
  "kernelspec": {
   "display_name": "Python 3",
   "language": "python",
   "name": "python3"
  },
  "language_info": {
   "codemirror_mode": {
    "name": "ipython",
    "version": 3
   },
   "file_extension": ".py",
   "mimetype": "text/x-python",
   "name": "python",
   "nbconvert_exporter": "python",
   "pygments_lexer": "ipython3",
   "version": "3.7.4"
  }
 },
 "nbformat": 4,
 "nbformat_minor": 2
}
