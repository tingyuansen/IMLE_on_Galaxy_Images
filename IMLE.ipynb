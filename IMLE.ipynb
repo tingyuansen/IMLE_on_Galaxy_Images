{
 "cells": [
  {
   "cell_type": "code",
   "execution_count": 1,
   "metadata": {},
   "outputs": [],
   "source": [
    "%matplotlib inline\n",
    "\n",
    "# import packages\n",
    "import numpy as np\n",
    "import time\n",
    "import pandas as pd\n",
    "\n",
    "import matplotlib\n",
    "import matplotlib.pyplot as plt\n",
    "import matplotlib.colors as colors\n",
    "import matplotlib.cm as cm\n",
    "from matplotlib import gridspec\n"
   ]
  },
  {
   "cell_type": "code",
   "execution_count": 2,
   "metadata": {},
   "outputs": [],
   "source": [
    "# define plot properties\n",
    "from cycler import cycler\n",
    "import matplotlib.cm as cm\n",
    "\n",
    "from matplotlib import rcParams\n",
    "from matplotlib import rc\n",
    "from mpl_toolkits.axes_grid1 import make_axes_locatable\n",
    "\n",
    "def rgb(r,g,b):\n",
    "    return (float(r)/256.,float(g)/256.,float(b)/256.)\n",
    "\n",
    "cb2 = [rgb(31,120,180), rgb(255,127,0), rgb(51,160,44), rgb(227,26,28), \\\n",
    "       rgb(166,206,227), rgb(253,191,111), rgb(178,223,138), rgb(251,154,153)]\n",
    "\n",
    "rcParams['figure.figsize'] = (9,7.5)\n",
    "#rcParams['figure.dpi'] = 300\n",
    "\n",
    "rcParams['lines.linewidth'] = 1\n",
    "\n",
    "rcParams['axes.prop_cycle'] = cycler('color', cb2)\n",
    "rcParams['axes.facecolor'] = 'white'\n",
    "rcParams['axes.grid'] = False\n",
    "\n",
    "rcParams['patch.facecolor'] = cb2[0]\n",
    "rcParams['patch.edgecolor'] = 'white'\n",
    "\n",
    "#rcParams['font.family'] = 'Bitstream Vera Sans' \n",
    "rcParams['font.size'] = 23\n",
    "rcParams['font.weight'] = 300\n"
   ]
  },
  {
   "cell_type": "code",
   "execution_count": 18,
   "metadata": {},
   "outputs": [
    {
     "name": "stdout",
     "output_type": "stream",
     "text": [
      "(12470, 33)\n",
      "(411510,)\n"
     ]
    },
    {
     "data": {
      "text/plain": [
       "(array([3.0000e+00, 8.0000e+00, 6.0000e+00, 1.3000e+01, 2.1000e+01,\n",
       "        3.6000e+01, 5.2000e+01, 8.3000e+01, 1.2400e+02, 1.9400e+02,\n",
       "        2.8400e+02, 4.1700e+02, 5.7200e+02, 7.5700e+02, 1.0800e+03,\n",
       "        1.4940e+03, 2.0330e+03, 2.6240e+03, 3.3820e+03, 4.1420e+03,\n",
       "        5.1630e+03, 6.0040e+03, 7.0320e+03, 8.2940e+03, 9.2610e+03,\n",
       "        1.0244e+04, 1.1210e+04, 1.2346e+04, 1.2979e+04, 1.3468e+04,\n",
       "        1.3915e+04, 1.4485e+04, 1.4691e+04, 1.4672e+04, 1.4445e+04,\n",
       "        1.4091e+04, 1.3915e+04, 1.3414e+04, 1.3217e+04, 1.2350e+04,\n",
       "        1.1678e+04, 1.1134e+04, 1.0604e+04, 9.9970e+03, 9.7310e+03,\n",
       "        9.1610e+03, 8.4580e+03, 8.2990e+03, 7.7320e+03, 7.2600e+03,\n",
       "        6.8780e+03, 6.1950e+03, 5.7970e+03, 5.2730e+03, 4.8700e+03,\n",
       "        4.3800e+03, 3.9170e+03, 3.6620e+03, 3.2010e+03, 2.7930e+03,\n",
       "        2.5630e+03, 2.1950e+03, 2.0270e+03, 1.7110e+03, 1.4730e+03,\n",
       "        1.1920e+03, 1.0490e+03, 8.8500e+02, 7.9800e+02, 6.3700e+02,\n",
       "        5.4500e+02, 5.0600e+02, 4.1100e+02, 3.4800e+02, 2.9000e+02,\n",
       "        2.5100e+02, 2.1100e+02, 1.7600e+02, 1.4000e+02, 1.1500e+02,\n",
       "        9.4000e+01, 7.9000e+01, 6.0000e+01, 4.5000e+01, 3.2000e+01,\n",
       "        3.3000e+01, 1.9000e+01, 1.7000e+01, 1.8000e+01, 1.5000e+01,\n",
       "        1.1000e+01, 3.0000e+00, 6.0000e+00, 2.0000e+00, 6.0000e+00,\n",
       "        4.0000e+00, 1.0000e+00, 0.0000e+00, 0.0000e+00, 1.0000e+00]),\n",
       " array([-8.1929932e+00, -8.0821762e+00, -7.9713597e+00, -7.8605433e+00,\n",
       "        -7.7497263e+00, -7.6389098e+00, -7.5280929e+00, -7.4172764e+00,\n",
       "        -7.3064599e+00, -7.1956429e+00, -7.0848265e+00, -6.9740095e+00,\n",
       "        -6.8631930e+00, -6.7523761e+00, -6.6415596e+00, -6.5307431e+00,\n",
       "        -6.4199262e+00, -6.3091097e+00, -6.1982927e+00, -6.0874763e+00,\n",
       "        -5.9766593e+00, -5.8658428e+00, -5.7550263e+00, -5.6442094e+00,\n",
       "        -5.5333929e+00, -5.4225760e+00, -5.3117595e+00, -5.2009425e+00,\n",
       "        -5.0901260e+00, -4.9793096e+00, -4.8684926e+00, -4.7576761e+00,\n",
       "        -4.6468592e+00, -4.5360427e+00, -4.4252257e+00, -4.3144093e+00,\n",
       "        -4.2035928e+00, -4.0927758e+00, -3.9819591e+00, -3.8711424e+00,\n",
       "        -3.7603259e+00, -3.6495092e+00, -3.5386925e+00, -3.4278758e+00,\n",
       "        -3.3170590e+00, -3.2062423e+00, -3.0954256e+00, -2.9846091e+00,\n",
       "        -2.8737924e+00, -2.7629757e+00, -2.6521590e+00, -2.5413423e+00,\n",
       "        -2.4305255e+00, -2.3197088e+00, -2.2088923e+00, -2.0980756e+00,\n",
       "        -1.9872589e+00, -1.8764422e+00, -1.7656255e+00, -1.6548089e+00,\n",
       "        -1.5439922e+00, -1.4331754e+00, -1.3223587e+00, -1.2115421e+00,\n",
       "        -1.1007254e+00, -9.8990870e-01, -8.7909204e-01, -7.6827538e-01,\n",
       "        -6.5745866e-01, -5.4664201e-01, -4.3582529e-01, -3.2500863e-01,\n",
       "        -2.1419193e-01, -1.0337525e-01,  7.4414350e-03,  1.1825812e-01,\n",
       "         2.2907481e-01,  3.3989149e-01,  4.5070818e-01,  5.6152487e-01,\n",
       "         6.7234153e-01,  7.8315824e-01,  8.9397490e-01,  1.0047916e+00,\n",
       "         1.1156082e+00,  1.2264249e+00,  1.3372416e+00,  1.4480584e+00,\n",
       "         1.5588750e+00,  1.6696917e+00,  1.7805084e+00,  1.8913251e+00,\n",
       "         2.0021417e+00,  2.1129584e+00,  2.2237751e+00,  2.3345919e+00,\n",
       "         2.4454086e+00,  2.5562251e+00,  2.6670418e+00,  2.7778585e+00,\n",
       "         2.8886752e+00], dtype=float32),\n",
       " <a list of 100 Patch objects>)"
      ]
     },
     "execution_count": 18,
     "metadata": {},
     "output_type": "execute_result"
    },
    {
     "data": {
      "image/png": "[encoded data removed]",
      "text/plain": [
       "<Figure size 648x540 with 1 Axes>"
      ]
     },
     "metadata": {
      "needs_background": "light"
     },
     "output_type": "display_data"
    }
   ],
   "source": [
    "Sx = np.load(\"../Sx_Illustris_Images.npy\")\n",
    "print(Sx.shape)\n",
    "print(Sx.flatten().shape)\n",
    "\n",
    "plt.hist(Sx.ravel(), bins=100)"
   ]
  },
  {
   "cell_type": "markdown",
   "metadata": {},
   "source": [
    "> Load data."
   ]
  },
  {
   "cell_type": "code",
   "execution_count": null,
   "metadata": {},
   "outputs": [],
   "source": [
    "# load all the array\n",
    "arr = np.load(\"../DES_DR1.npy\")\n",
    "\n",
    "# permute the data\n",
    "rng = np.random.RandomState(seed=42)\n",
    "pidx = rng.permutation(len(arr))\n",
    "arr = arr[pidx]\n",
    "    \n",
    "# crop the image\n",
    "arr = arr[:,32:96,32:96,:]\n",
    "\n",
    "# scale data\n",
    "arr = np.clip(np.arcsinh(0.01*arr)+0.4,0,5)/5\n",
    "\n",
    "# further scale to make the color pop\n",
    "arr[:,:,:,0] = arr[:,:,:,0] * 1.5\n",
    "arr[:,:,:,1] = arr[:,:,:,1] * 1.2\n",
    "arr[:,:,:,2] = arr[:,:,:,2] * 1.1\n",
    "arr = np.clip(arr,0,1)\n"
   ]
  },
  {
   "cell_type": "code",
   "execution_count": null,
   "metadata": {},
   "outputs": [],
   "source": [
    "# load a channel of an image\n",
    "channel_choice = 2\n",
    "\n",
    "# choose an image\n",
    "image_choice = 0\n"
   ]
  },
  {
   "cell_type": "markdown",
   "metadata": {},
   "source": [
    "> Histogram of individual channels."
   ]
  },
  {
   "cell_type": "code",
   "execution_count": null,
   "metadata": {},
   "outputs": [],
   "source": [
    "plt.hist(arr[:,:,:,0].ravel(), alpha=0.5, bins=100);\n",
    "plt.hist(arr[:,:,:,1].ravel(), alpha=0.5, bins=100);\n",
    "plt.hist(arr[:,:,:,2].ravel(), alpha=0.5, bins=100);"
   ]
  },
  {
   "cell_type": "markdown",
   "metadata": {},
   "source": [
    "> Show images."
   ]
  },
  {
   "cell_type": "code",
   "execution_count": null,
   "metadata": {},
   "outputs": [],
   "source": [
    "plt.imshow(arr[image_choice,:,:,:])"
   ]
  },
  {
   "cell_type": "code",
   "execution_count": null,
   "metadata": {},
   "outputs": [],
   "source": [
    "# restore results\n",
    "import imageio\n",
    "\n",
    "# choose a subset of images\n",
    "X = arr[:64]\n",
    "\n",
    "#-----------------------------------------------------------------------------\n",
    "# plot the tiled results\n",
    "n_samples = X.shape[0]\n",
    "rows = int(np.sqrt(n_samples))\n",
    "while n_samples % rows != 0:\n",
    "    rows -= 1\n",
    "\n",
    "nh, nw = rows, int(n_samples/rows)\n",
    "\n",
    "h, w = X[0].shape[:2]\n",
    "img = np.zeros((h*nh, w*nw, 3))\n",
    "\n",
    "#-----------------------------------------------------------------------------\n",
    "# loop over all images\n",
    "for n, x in enumerate(X):\n",
    "    j = int(n/nw)\n",
    "    i = n%nw\n",
    "    x_temp = np.copy(x)\n",
    "    img[j*h:j*h+h, i*w:i*w+w, :] = x_temp\n",
    "\n",
    "# save images\n",
    "imageio.imwrite(\"Results.png\", img)"
   ]
  },
  {
   "cell_type": "code",
   "execution_count": null,
   "metadata": {},
   "outputs": [],
   "source": [
    "# save training set\n",
    "arr = np.swapaxes(arr,3,1)\n",
    "np.save(\"../training_set_des.npy\", arr)\n"
   ]
  },
  {
   "cell_type": "markdown",
   "metadata": {},
   "source": [
    "> Restore 2D networks and results."
   ]
  },
  {
   "cell_type": "code",
   "execution_count": null,
   "metadata": {},
   "outputs": [],
   "source": [
    "# restore results\n",
    "temp = np.load(\"../results_2D.npz\")\n",
    "data_np = temp[\"data_np\"]\n",
    "plt.hist(np.log(data_np).flatten())"
   ]
  },
  {
   "cell_type": "code",
   "execution_count": 4,
   "metadata": {},
   "outputs": [
    {
     "name": "stderr",
     "output_type": "stream",
     "text": [
      "Lossy conversion from float64 to uint8. Range [0, 1]. Convert image to uint8 prior to saving to suppress this warning.\n",
      "Lossy conversion from float64 to uint8. Range [0, 1]. Convert image to uint8 prior to saving to suppress this warning.\n"
     ]
    }
   ],
   "source": [
    "# restore results\n",
    "import imageio\n",
    "\n",
    "# restore results\n",
    "temp = np.load(\"../results_2D_small_zdim.npz\")\n",
    "samples_np = np.exp(temp[\"samples_np\"][::10,:][:100,:] - 5.)\n",
    "data_np = np.exp(temp[\"data_np\"][::10,:][:100,:] - 5.)\n",
    "\n",
    "#temp = np.load(\"../results_2D_random_small_zdim.npz\")\n",
    "#samples_np = np.exp(temp[\"samples_np\"][::10,:][:100,:] - 5.)\n",
    "\n",
    "# swap channel axis\n",
    "X = np.swapaxes(samples_np,3,1)\n",
    "X = np.clip(X,0.1,1.)\n",
    "\n",
    "#-----------------------------------------------------------------------------\n",
    "# plot the tiled results\n",
    "n_samples = X.shape[0]\n",
    "rows = int(np.sqrt(n_samples))\n",
    "while n_samples % rows != 0:\n",
    "    rows -= 1\n",
    "\n",
    "nh, nw = rows, int(n_samples/rows)\n",
    "\n",
    "h, w = X[0].shape[:2]\n",
    "img = np.zeros((h*nh, w*nw, 3))\n",
    "\n",
    "#-----------------------------------------------------------------------------\n",
    "# loop over all images\n",
    "for n, x in enumerate(X):\n",
    "    j = int(n/nw)\n",
    "    i = n%nw\n",
    "    x_temp = np.copy(x)\n",
    "    img[j*h:j*h+h, i*w:i*w+w, :] = x_temp\n",
    "\n",
    "# save images\n",
    "imageio.imwrite(\"../Results_2D_mock.png\", img)\n",
    "\n",
    "\n",
    "#==============================================================================\n",
    "# restore results\n",
    "import imageio\n",
    "\n",
    "# restore results\n",
    "temp = np.load(\"../results_2D_small_zdim.npz\")\n",
    "samples_np = np.exp(temp[\"samples_np\"][::10,:][:100,:] - 5.)\n",
    "data_np = np.exp(temp[\"data_np\"][::10,:][:100,:] - 5.)\n",
    "\n",
    "# swap channel axis\n",
    "X = np.swapaxes(data_np,3,1)\n",
    "X = np.clip(X,0.1,1.)\n",
    "\n",
    "#-----------------------------------------------------------------------------\n",
    "# plot the tiled results\n",
    "n_samples = X.shape[0]\n",
    "rows = int(np.sqrt(n_samples))\n",
    "\n",
    "while n_samples % rows != 0:\n",
    "    rows -= 1\n",
    "\n",
    "nh, nw = rows, int(n_samples/rows)\n",
    "\n",
    "h, w = X[0].shape[:2]\n",
    "img = np.zeros((h*nh, w*nw, 3))\n",
    "\n",
    "#-----------------------------------------------------------------------------\n",
    "# loop over all images\n",
    "for n, x in enumerate(X):\n",
    "    j = int(n/nw)\n",
    "    i = n%nw\n",
    "    x_temp = np.copy(x)\n",
    "    img[j*h:j*h+h, i*w:i*w+w, :] = x_temp\n",
    "\n",
    "# save images\n",
    "imageio.imwrite(\"../Results_2D_real.png\", img)\n"
   ]
  },
  {
   "cell_type": "markdown",
   "metadata": {},
   "source": [
    "> Restore 3D networks and results."
   ]
  },
  {
   "cell_type": "code",
   "execution_count": null,
   "metadata": {},
   "outputs": [],
   "source": [
    "# restore results\n",
    "import imageio\n",
    "\n",
    "# restore results\n",
    "temp = np.load(\"../results_3D.npz\")\n",
    "samples_np = temp[\"samples_np\"][0,0,:,:,:]\n",
    "data_np = temp[\"data_np\"][0,0,:,:,:]\n",
    "\n",
    "# set range\n",
    "X = np.clip(samples_np,5.,10.)\n",
    "\n",
    "#-----------------------------------------------------------------------------\n",
    "# plot the tiled results\n",
    "n_samples = X.shape[0]\n",
    "rows = int(np.sqrt(n_samples))\n",
    "while n_samples % rows != 0:\n",
    "    rows -= 1\n",
    "\n",
    "nh, nw = rows, int(n_samples/rows)\n",
    "\n",
    "h, w = X[0].shape[:2]\n",
    "img = np.zeros((h*nh, w*nw))\n",
    "\n",
    "#-----------------------------------------------------------------------------\n",
    "# loop over all images\n",
    "for n, x in enumerate(X):\n",
    "    j = int(n/nw)\n",
    "    i = n%nw\n",
    "    x_temp = np.copy(x)\n",
    "    img[j*h:j*h+h, i*w:i*w+w] = x_temp\n",
    "\n",
    "# save images\n",
    "imageio.imwrite(\"../Results_3D_mock.png\", img)\n",
    "\n",
    "\n",
    "#==============================================================================\n",
    "# restore results\n",
    "import imageio\n",
    "\n",
    "# restore results\n",
    "temp = np.load(\"../results_3D.npz\")\n",
    "samples_np = temp[\"samples_np\"][0,0,:,:,:]\n",
    "data_np = temp[\"data_np\"][0,0,:,:,:]\n",
    "\n",
    "# set range\n",
    "X = np.clip(data_np,5.,10.)\n",
    "\n",
    "#-----------------------------------------------------------------------------\n",
    "# plot the tiled results\n",
    "n_samples = X.shape[0]\n",
    "rows = int(np.sqrt(n_samples))\n",
    "\n",
    "while n_samples % rows != 0:\n",
    "    rows -= 1\n",
    "\n",
    "nh, nw = rows, int(n_samples/rows)\n",
    "\n",
    "h, w = X[0].shape[:2]\n",
    "img = np.zeros((h*nh, w*nw))\n",
    "\n",
    "#-----------------------------------------------------------------------------\n",
    "# loop over all images\n",
    "for n, x in enumerate(X):\n",
    "    j = int(n/nw)\n",
    "    i = n%nw\n",
    "    x_temp = np.copy(x)\n",
    "    img[j*h:j*h+h, i*w:i*w+w] = x_temp\n",
    "\n",
    "# save images\n",
    "imageio.imwrite(\"../Results_3D_real.png\", img)\n",
    "\n"
   ]
  },
  {
   "cell_type": "code",
   "execution_count": null,
   "metadata": {},
   "outputs": [],
   "source": [
    "plt.imshow(samples_np[10,0,slice,:,:], vmin=5, vmax=10, cmap=\"Greys\")\n"
   ]
  },
  {
   "cell_type": "code",
   "execution_count": null,
   "metadata": {},
   "outputs": [],
   "source": [
    "print(samples_np.shape)\n",
    "print(data_np.shape)\n",
    "plt.hist(samples_np.flatten(), bins=100);\n",
    "plt.hist(data_np.flatten(), bins=100, alpha=0.5);"
   ]
  },
  {
   "cell_type": "markdown",
   "metadata": {},
   "source": [
    "## Curate Zeldovich Approximation data."
   ]
  },
  {
   "cell_type": "code",
   "execution_count": null,
   "metadata": {},
   "outputs": [],
   "source": [
    "# restore data\n",
    "temp = np.load(\"../Zeldovich_Approximation.npz\")\n",
    "sim_z0 = temp[\"sim_z0\"]\n",
    "sim_z0 = sim_z0.reshape(sim_z0.shape[0]*sim_z0.shape[1],1,sim_z0.shape[2],sim_z0.shape[3])\n",
    "sim_z0 = sim_z0[:,:,::2,::2][:,:,2:-2,2:-2]\n",
    "print(sim_z0.shape)\n",
    "sim_z50 = temp[\"sim_z50\"]\n"
   ]
  },
  {
   "cell_type": "markdown",
   "metadata": {},
   "source": [
    "# Investigate NN structure."
   ]
  },
  {
   "cell_type": "code",
   "execution_count": null,
   "metadata": {},
   "outputs": [],
   "source": [
    "# import package\n",
    "import torch.nn as nn\n",
    "import torch\n",
    "\n",
    "# define network\n",
    "class ConvolutionalImplicitModel(nn.Module):\n",
    "    def __init__(self, z_dim):\n",
    "        super(ConvolutionalImplicitModel, self).__init__()\n",
    "        self.z_dim = z_dim\n",
    "        self.tconv1 = nn.ConvTranspose2d(z_dim, 1024, 8, 4, bias=False)\n",
    "        self.bn1 = nn.BatchNorm2d(1024)\n",
    "        self.tconv2 = nn.ConvTranspose2d(1024, 128, 8, 3, bias=False)\n",
    "        self.bn2 = nn.BatchNorm2d(128)\n",
    "        self.tconv3 = nn.ConvTranspose2d(128, 64, 4, 2, output_padding=1, bias=False)\n",
    "        self.bn3 = nn.BatchNorm2d(64)\n",
    "        self.tconv4 = nn.ConvTranspose2d(64, 1, 4, 1, bias=False)\n",
    "        self.bn4 = nn.BatchNorm2d(1)\n",
    "        self.relu = nn.LeakyReLU()\n",
    "\n",
    "    def forward(self, z):\n",
    "        z = self.relu(self.bn1(self.tconv1(z)))\n",
    "        z = self.relu(self.bn2(self.tconv2(z)))\n",
    "        z = self.relu(self.bn3(self.tconv3(z)))\n",
    "        z = self.relu(self.bn4(self.tconv4(z)))\n",
    "        return z\n",
    "    \n",
    "    \n",
    "#========================================================================================\n",
    "# initate model\n",
    "z_dim = 64\n",
    "batch_size = 2\n",
    "model = ConvolutionalImplicitModel(z_dim)\n",
    "\n",
    "# test output\n",
    "z = torch.randn(batch_size, z_dim, 1, 1)\n",
    "print(model(z).shape)"
   ]
  },
  {
   "cell_type": "markdown",
   "metadata": {},
   "source": [
    "## Inspect data.\n"
   ]
  },
  {
   "cell_type": "code",
   "execution_count": null,
   "metadata": {},
   "outputs": [],
   "source": [
    "train_data = np.load(\"../training_set_des.npy\")[::100,0:1,:,:]\n",
    "print(train_data.shape)\n",
    "\n",
    "plt.hist(train_data.flatten(), bins=[0])"
   ]
  },
  {
   "cell_type": "code",
   "execution_count": null,
   "metadata": {},
   "outputs": [],
   "source": []
  }
 ],
 "metadata": {
  "kernelspec": {
   "display_name": "Python 3",
   "language": "python",
   "name": "python3"
  },
  "language_info": {
   "codemirror_mode": {
    "name": "ipython",
    "version": 3
   },
   "file_extension": ".py",
   "mimetype": "text/x-python",
   "name": "python",
   "nbconvert_exporter": "python",
   "pygments_lexer": "ipython3",
   "version": "3.7.4"
  }
 },
 "nbformat": 4,
 "nbformat_minor": 2
}
