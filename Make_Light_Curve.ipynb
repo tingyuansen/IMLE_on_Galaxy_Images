{
 "cells": [
  {
   "cell_type": "markdown",
   "metadata": {},
   "source": [
    "## Make time series\n",
    "\n",
    "> Import packages"
   ]
  },
  {
   "cell_type": "code",
   "execution_count": 3,
   "metadata": {},
   "outputs": [],
   "source": [
    "%matplotlib inline\n",
    "\n",
    "import matplotlib\n",
    "import matplotlib.pyplot as plt\n",
    "import matplotlib.colors as colors\n",
    "import matplotlib.cm as cm\n",
    "from matplotlib import gridspec\n",
    "\n",
    "# import package\n",
    "import kali.carma\n",
    "import numpy as np\n"
   ]
  },
  {
   "cell_type": "markdown",
   "metadata": {},
   "source": [
    "## Assuming a single light curve parameter."
   ]
  },
  {
   "cell_type": "code",
   "execution_count": null,
   "metadata": {},
   "outputs": [],
   "source": [
    "# set time step\n",
    "dt = 0.1\n",
    "\n",
    "# set parameters\n",
    "r_1 = (-1.0/107.8) + 0j\n",
    "r_2 = (-1.0/33.2) + 0j\n",
    "m_1 = (-1.0/5.5) + 0j\n",
    "amp = 1.0\n",
    "\n",
    "# translate into function input\n",
    "Rho = np.require(np.array([r_1, r_2, m_1, amp]), requirements=['F', 'A', 'W', 'O', 'E'])\n",
    "Theta = kali.carma.coeffs(2, 1, Rho)\n",
    "\n",
    "#-------------------------------------------------------------------------------------------\n",
    "# check if the input is valid\n",
    "newTask = kali.carma.CARMATask(2, 1, nsteps = 500)\n",
    "print (newTask.check(Theta))\n",
    "\n",
    "# set input\n",
    "newTask.set(dt, Theta, tnum = 0)\n",
    "\n",
    "# simulate light curve\n",
    "newLC = newTask.simulate(duration=1000.0)\n",
    "\n",
    "# add noise, assuming 0.1% photometry\n",
    "newLC.fracNoiseToSignal = 0.001\n",
    "newTask.observe(newLC)\n",
    "\n",
    "# extract light curve\n",
    "plt.plot(newLC.t,newLC.y)"
   ]
  },
  {
   "cell_type": "code",
   "execution_count": null,
   "metadata": {},
   "outputs": [],
   "source": [
    "# make many light curves\n",
    "light_curve = []\n",
    "for i in range(int(1e3)):\n",
    "    if i % 1e2 == 0:\n",
    "        print(i)\n",
    "    newLC = newTask.simulate(duration=1000.0)\n",
    "    light_curve.append(newLC.x)\n",
    "light_curve = np.array(light_curve)\n",
    "print(light_curve.shape)\n",
    "\n",
    "np.save(\"light_curve.npy\", light_curve)\n"
   ]
  },
  {
   "cell_type": "markdown",
   "metadata": {},
   "source": [
    "## Vary light curve parameters.\n",
    "\n",
    "> Make models."
   ]
  },
  {
   "cell_type": "code",
   "execution_count": null,
   "metadata": {},
   "outputs": [
    {
     "name": "stdout",
     "output_type": "stream",
     "text": [
      "0\n",
      "100\n",
      "200\n",
      "300\n",
      "400\n",
      "500\n",
      "600\n",
      "700\n",
      "800\n"
     ]
    }
   ],
   "source": [
    "# set time step\n",
    "dt = 0.1\n",
    "\n",
    "# initiate generator\n",
    "newTask = kali.carma.CARMATask(2, 1, nsteps = 500)\n",
    "light_curve = []\n",
    "t_array = []\n",
    "r1_array = []\n",
    "r2_array = []\n",
    "m1_array = []\n",
    "\n",
    "#-------------------------------------------------------------------------------------------\n",
    "# loop over different realization\n",
    "for i in range(1000):\n",
    "    \n",
    "    if i % 1e2 == 0:\n",
    "        print(i)\n",
    "        \n",
    "    r_1 = np.random.uniform(50.,150.)\n",
    "    r_1 = (-1.0/r_1) + 0j\n",
    "    r1_array.append(r_1)\n",
    "    \n",
    "    r_2 = np.random.uniform(15.,45.)\n",
    "    r_2 = (-1.0/r_2) + 0j\n",
    "    r2_array.append(r_2)\n",
    "    \n",
    "    m_1 = np.random.uniform(2.5,7.5)\n",
    "    m_1 = (-1.0/m_1) + 0j\n",
    "    m1_array.append(m_1)\n",
    "    \n",
    "    amp = 1.0\n",
    "\n",
    "#-------------------------------------------------------------------------------------------\n",
    "    # translate into function input\n",
    "    Rho = np.require(np.array([r_1, r_2, m_1, amp]), requirements=['F', 'A', 'W', 'O', 'E'])\n",
    "    Theta = kali.carma.coeffs(2, 1, Rho)\n",
    "\n",
    "    # check if the input is valid\n",
    "    #print (newTask.check(Theta))\n",
    "    \n",
    "#-------------------------------------------------------------------------------------------\n",
    "    # set input\n",
    "    newTask.set(dt, Theta, tnum = 0)\n",
    "\n",
    "    # simulate light curve\n",
    "    newLC = newTask.simulate(duration=1000.0)\n",
    "    \n",
    "    # add noise, assuming 0.1% photometry\n",
    "    newLC.fracNoiseToSignal = 0.001\n",
    "    newTask.observe(newLC)\n",
    "    \n",
    "    # record light curve\n",
    "    light_curve.append(newLC.y)\n",
    "    t_array.append(newLC.t)\n",
    "    \n",
    "#-------------------------------------------------------------------------------------------\n",
    "# convert the numpy array\n",
    "light_curve = np.array(light_curve)\n",
    "t_array = np.array(t_array)\n",
    "r1_array = np.array(r1_array)\n",
    "r2_array = np.array(r2_array)\n",
    "m1_array = np.array(m1_array)\n",
    "\n",
    "np.savez(\"light_curve.npz\",\\\n",
    "         light_curve = light_curve,\\\n",
    "         t_array = t_array,\\\n",
    "         r1_array = r1_array,\\\n",
    "         r2_array = r2_array,\\\n",
    "         m1_array = m1_array)\n"
   ]
  },
  {
   "cell_type": "code",
   "execution_count": null,
   "metadata": {},
   "outputs": [],
   "source": []
  }
 ],
 "metadata": {
  "kernelspec": {
   "display_name": "Python 3",
   "language": "python",
   "name": "python3"
  },
  "language_info": {
   "codemirror_mode": {
    "name": "ipython",
    "version": 3
   },
   "file_extension": ".py",
   "mimetype": "text/x-python",
   "name": "python",
   "nbconvert_exporter": "python",
   "pygments_lexer": "ipython3",
   "version": "3.7.6"
  }
 },
 "nbformat": 4,
 "nbformat_minor": 4
}
